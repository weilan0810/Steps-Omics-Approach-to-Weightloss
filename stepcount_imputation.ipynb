{
 "cells": [
  {
   "cell_type": "code",
   "execution_count": 152,
   "metadata": {},
   "outputs": [],
   "source": [
    "import pandas as pd"
   ]
  },
  {
   "cell_type": "code",
   "execution_count": 153,
   "metadata": {},
   "outputs": [],
   "source": [
    "df = pd.read_csv('step_count_all.csv')"
   ]
  },
  {
   "cell_type": "code",
   "execution_count": 170,
   "metadata": {},
   "outputs": [
    {
     "data": {
      "text/html": [
       "<div>\n",
       "<style scoped>\n",
       "    .dataframe tbody tr th:only-of-type {\n",
       "        vertical-align: middle;\n",
       "    }\n",
       "\n",
       "    .dataframe tbody tr th {\n",
       "        vertical-align: top;\n",
       "    }\n",
       "\n",
       "    .dataframe thead th {\n",
       "        text-align: right;\n",
       "    }\n",
       "</style>\n",
       "<table border=\"1\" class=\"dataframe\">\n",
       "  <thead>\n",
       "    <tr style=\"text-align: right;\">\n",
       "      <th></th>\n",
       "      <th>studyID</th>\n",
       "      <th>Steps</th>\n",
       "      <th>Date</th>\n",
       "      <th>Weight</th>\n",
       "      <th>BMI</th>\n",
       "      <th>Day</th>\n",
       "    </tr>\n",
       "  </thead>\n",
       "  <tbody>\n",
       "    <tr>\n",
       "      <th>0</th>\n",
       "      <td>2001</td>\n",
       "      <td>2931.0</td>\n",
       "      <td>11/17/14</td>\n",
       "      <td>253.40</td>\n",
       "      <td>36.24</td>\n",
       "      <td>1</td>\n",
       "    </tr>\n",
       "    <tr>\n",
       "      <th>1</th>\n",
       "      <td>2001</td>\n",
       "      <td>2264.0</td>\n",
       "      <td>11/18/14</td>\n",
       "      <td>253.55</td>\n",
       "      <td>36.26</td>\n",
       "      <td>2</td>\n",
       "    </tr>\n",
       "    <tr>\n",
       "      <th>2</th>\n",
       "      <td>2001</td>\n",
       "      <td>5347.0</td>\n",
       "      <td>11/19/14</td>\n",
       "      <td>253.71</td>\n",
       "      <td>36.28</td>\n",
       "      <td>3</td>\n",
       "    </tr>\n",
       "    <tr>\n",
       "      <th>3</th>\n",
       "      <td>2001</td>\n",
       "      <td>5924.0</td>\n",
       "      <td>11/20/14</td>\n",
       "      <td>253.87</td>\n",
       "      <td>36.30</td>\n",
       "      <td>4</td>\n",
       "    </tr>\n",
       "    <tr>\n",
       "      <th>4</th>\n",
       "      <td>2001</td>\n",
       "      <td>6961.0</td>\n",
       "      <td>11/21/14</td>\n",
       "      <td>254.02</td>\n",
       "      <td>36.33</td>\n",
       "      <td>5</td>\n",
       "    </tr>\n",
       "  </tbody>\n",
       "</table>\n",
       "</div>"
      ],
      "text/plain": [
       "   studyID   Steps      Date  Weight    BMI  Day\n",
       "0     2001  2931.0  11/17/14  253.40  36.24    1\n",
       "1     2001  2264.0  11/18/14  253.55  36.26    2\n",
       "2     2001  5347.0  11/19/14  253.71  36.28    3\n",
       "3     2001  5924.0  11/20/14  253.87  36.30    4\n",
       "4     2001  6961.0  11/21/14  254.02  36.33    5"
      ]
     },
     "execution_count": 170,
     "metadata": {},
     "output_type": "execute_result"
    }
   ],
   "source": [
    "df.head()"
   ]
  },
  {
   "cell_type": "code",
   "execution_count": 155,
   "metadata": {},
   "outputs": [
    {
     "data": {
      "text/plain": [
       "studyID     0\n",
       "Steps      88\n",
       "Date        0\n",
       "Weight      0\n",
       "BMI         0\n",
       "dtype: int64"
      ]
     },
     "execution_count": 155,
     "metadata": {},
     "output_type": "execute_result"
    }
   ],
   "source": [
    "NullsPerColumn=df.isna().sum()\n",
    "NullsPerColumn"
   ]
  },
  {
   "cell_type": "code",
   "execution_count": 156,
   "metadata": {},
   "outputs": [],
   "source": [
    "studyID=df.studyID.unique()"
   ]
  },
  {
   "cell_type": "code",
   "execution_count": 157,
   "metadata": {},
   "outputs": [
    {
     "data": {
      "text/plain": [
       "array([2001, 2002, 2003, 2004, 2006, 2008, 2010, 2012, 2013, 2014, 2017,\n",
       "       2021, 2022, 2023, 2024, 2025, 2026, 2027, 2028, 2029, 2031, 2032,\n",
       "       2033, 2035, 2037, 2039, 2041, 2043, 2044, 2045, 2046, 2047, 2048,\n",
       "       2050, 2054, 2055, 2056, 2057, 2058, 2059, 2060, 2063, 2066, 2067,\n",
       "       2069, 2070, 2071, 2072, 2074, 2075, 2078, 2080, 2081, 2082, 2083,\n",
       "       2084, 2085])"
      ]
     },
     "execution_count": 157,
     "metadata": {},
     "output_type": "execute_result"
    }
   ],
   "source": [
    "studyID"
   ]
  },
  {
   "cell_type": "code",
   "execution_count": 158,
   "metadata": {},
   "outputs": [],
   "source": [
    "m=0\n",
    "n=90"
   ]
  },
  {
   "cell_type": "code",
   "execution_count": 159,
   "metadata": {},
   "outputs": [
    {
     "data": {
      "text/html": [
       "<div>\n",
       "<style scoped>\n",
       "    .dataframe tbody tr th:only-of-type {\n",
       "        vertical-align: middle;\n",
       "    }\n",
       "\n",
       "    .dataframe tbody tr th {\n",
       "        vertical-align: top;\n",
       "    }\n",
       "\n",
       "    .dataframe thead th {\n",
       "        text-align: right;\n",
       "    }\n",
       "</style>\n",
       "<table border=\"1\" class=\"dataframe\">\n",
       "  <thead>\n",
       "    <tr style=\"text-align: right;\">\n",
       "      <th></th>\n",
       "      <th>studyID</th>\n",
       "      <th>Steps</th>\n",
       "      <th>Date</th>\n",
       "      <th>Weight</th>\n",
       "      <th>BMI</th>\n",
       "      <th>Day</th>\n",
       "    </tr>\n",
       "  </thead>\n",
       "  <tbody>\n",
       "    <tr>\n",
       "      <th>0</th>\n",
       "      <td>2001</td>\n",
       "      <td>2931.0</td>\n",
       "      <td>11/17/14</td>\n",
       "      <td>253.40</td>\n",
       "      <td>36.24</td>\n",
       "      <td>1</td>\n",
       "    </tr>\n",
       "    <tr>\n",
       "      <th>1</th>\n",
       "      <td>2001</td>\n",
       "      <td>2264.0</td>\n",
       "      <td>11/18/14</td>\n",
       "      <td>253.55</td>\n",
       "      <td>36.26</td>\n",
       "      <td>2</td>\n",
       "    </tr>\n",
       "    <tr>\n",
       "      <th>2</th>\n",
       "      <td>2001</td>\n",
       "      <td>5347.0</td>\n",
       "      <td>11/19/14</td>\n",
       "      <td>253.71</td>\n",
       "      <td>36.28</td>\n",
       "      <td>3</td>\n",
       "    </tr>\n",
       "    <tr>\n",
       "      <th>3</th>\n",
       "      <td>2001</td>\n",
       "      <td>5924.0</td>\n",
       "      <td>11/20/14</td>\n",
       "      <td>253.87</td>\n",
       "      <td>36.30</td>\n",
       "      <td>4</td>\n",
       "    </tr>\n",
       "    <tr>\n",
       "      <th>4</th>\n",
       "      <td>2001</td>\n",
       "      <td>6961.0</td>\n",
       "      <td>11/21/14</td>\n",
       "      <td>254.02</td>\n",
       "      <td>36.33</td>\n",
       "      <td>5</td>\n",
       "    </tr>\n",
       "  </tbody>\n",
       "</table>\n",
       "</div>"
      ],
      "text/plain": [
       "   studyID   Steps      Date  Weight    BMI  Day\n",
       "0     2001  2931.0  11/17/14  253.40  36.24    1\n",
       "1     2001  2264.0  11/18/14  253.55  36.26    2\n",
       "2     2001  5347.0  11/19/14  253.71  36.28    3\n",
       "3     2001  5924.0  11/20/14  253.87  36.30    4\n",
       "4     2001  6961.0  11/21/14  254.02  36.33    5"
      ]
     },
     "execution_count": 159,
     "metadata": {},
     "output_type": "execute_result"
    }
   ],
   "source": [
    "day=list(range(1,91))*57\n",
    "df['Day']=day\n",
    "df.head()"
   ]
  },
  {
   "cell_type": "code",
   "execution_count": 160,
   "metadata": {},
   "outputs": [
    {
     "data": {
      "text/plain": [
       "1077"
      ]
     },
     "execution_count": 160,
     "metadata": {},
     "output_type": "execute_result"
    }
   ],
   "source": [
    "missing=list(df.Steps.isnull())\n",
    "missing.index(True)"
   ]
  },
  {
   "cell_type": "code",
   "execution_count": 169,
   "metadata": {},
   "outputs": [
    {
     "name": "stdout",
     "output_type": "stream",
     "text": [
      "0.1618392078435441\n",
      "0.003025369280149737\n",
      "0.046869952751782185\n",
      "0.0027835675486493905\n",
      "0.3091826183126479\n",
      "0.24386569802941963\n",
      "0.07415313197628715\n",
      "0.4872646202913149\n",
      "0.04012304612725892\n",
      "0.01473843758084825\n",
      "0.035369866246232284\n",
      "0.056318359363235704\n",
      "3.8416005522901024e-05\n",
      "0.017813819507046857\n",
      "0.0003061695727706315\n",
      "0.023103507235292753\n",
      "0.013939258552198797\n",
      "0.07679311857368087\n",
      "0.051858091106230075\n",
      "0.09156278061904544\n",
      "0.009337674380008987\n",
      "0.12686453135967124\n",
      "0.04783706891763717\n",
      "0.09632877181888133\n",
      "0.05320065820059394\n",
      "0.40862143486840685\n",
      "0.021312357547448757\n",
      "0.0008946612762055218\n",
      "0.4875162096704001\n",
      "0.0950972886442576\n",
      "0.03845957556144808\n",
      "0.2077693350901043\n",
      "0.013777027100659978\n",
      "0.4602968592859193\n",
      "0.0011032775684068907\n",
      "0.0005038442733612536\n",
      "0.25839334221027344\n",
      "0.055036300957231776\n",
      "0.017165348090889543\n",
      "0.017898313474852823\n",
      "0.021248085650678372\n",
      "7.884056764551062e-06\n",
      "0.0005172539845467172\n",
      "0.0027894933007514\n",
      "0.2348168900192591\n",
      "0.02830532388592044\n",
      "0.008935044655618118\n",
      "0.0006407229581859575\n",
      "0.10929819968015365\n",
      "0.006514141749100255\n",
      "0.006458144314500758\n",
      "0.23022522375917231\n",
      "0.0018112002101873248\n",
      "0.1391089694021913\n",
      "0.004172681329311367\n",
      "0.08802450903989967\n",
      "0.004653153825806444\n"
     ]
    }
   ],
   "source": [
    "from sklearn import linear_model\n",
    "linreg = linear_model.LinearRegression()\n",
    "\n",
    "for i in range (0,57):\n",
    "    data=df.iloc[m+90*i:n+90*i]\n",
    "    data_clean=data.dropna()\n",
    "    X=data_clean[['studyID','Day']]\n",
    "    Y=data_clean['Steps']\n",
    "    reg=linreg.fit(X, Y)\n",
    "    #print(reg.coef_)\n",
    "    print(reg.score(X,Y))"
   ]
  },
  {
   "cell_type": "code",
   "execution_count": null,
   "metadata": {},
   "outputs": [],
   "source": []
  }
 ],
 "metadata": {
  "kernelspec": {
   "display_name": "Python 3",
   "language": "python",
   "name": "python3"
  },
  "language_info": {
   "codemirror_mode": {
    "name": "ipython",
    "version": 3
   },
   "file_extension": ".py",
   "mimetype": "text/x-python",
   "name": "python",
   "nbconvert_exporter": "python",
   "pygments_lexer": "ipython3",
   "version": "3.6.5"
  }
 },
 "nbformat": 4,
 "nbformat_minor": 2
}
