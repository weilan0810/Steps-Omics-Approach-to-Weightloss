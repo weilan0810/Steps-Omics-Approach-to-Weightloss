{
 "cells": [
  {
   "cell_type": "code",
   "execution_count": 1,
   "metadata": {},
   "outputs": [],
   "source": [
    "# No warnings\n",
    "import warnings\n",
    "warnings.filterwarnings('ignore') # Filter out warnings\n",
    "\n",
    "# data analysis and wrangling\n",
    "import pandas as pd\n",
    "import numpy as np\n",
    "\n",
    "# machine learning\n",
    "from sklearn.linear_model import LogisticRegression"
   ]
  },
  {
   "cell_type": "code",
   "execution_count": 2,
   "metadata": {},
   "outputs": [],
   "source": [
    "# data = pd.read_csv('logisticStepData.csv')\n",
    "\n",
    "# #index_col='studyID'"
   ]
  },
  {
   "cell_type": "code",
   "execution_count": 3,
   "metadata": {
    "scrolled": true
   },
   "outputs": [],
   "source": [
    "# data.head()"
   ]
  },
  {
   "cell_type": "code",
   "execution_count": 4,
   "metadata": {},
   "outputs": [],
   "source": [
    "# data.describe()"
   ]
  },
  {
   "cell_type": "code",
   "execution_count": 5,
   "metadata": {
    "scrolled": true
   },
   "outputs": [],
   "source": [
    "# mapping = {'Blue': 0, 'Red': 1}\n",
    "\n",
    "# df=data.replace({'Group': mapping})\n",
    "# df.head()"
   ]
  },
  {
   "cell_type": "code",
   "execution_count": 6,
   "metadata": {},
   "outputs": [],
   "source": [
    "# Age_band=[]\n",
    "# for a in df['Age']:\n",
    "#     if a>=25 and a <35:\n",
    "#         Age_band.append(0)\n",
    "#     elif a>=35 and a <45:\n",
    "#         Age_band.append(1)\n",
    "#     elif a>=45 and a <55:\n",
    "#         Age_band.append(2)\n",
    "#     elif a>=55 and a <65:\n",
    "#         Age_band.append(3)\n",
    "#     elif a>=65:\n",
    "#         Age_band.append(4)\n",
    "        \n",
    "# df['Age_band']=Age_band\n",
    "# df=df.drop('Age',axis=1)\n",
    " \n",
    "# df.head()"
   ]
  },
  {
   "cell_type": "code",
   "execution_count": 7,
   "metadata": {},
   "outputs": [],
   "source": [
    "# BMI_band=[]\n",
    "# for b in df['BMI']:\n",
    "#     if b>=10 and b <20:\n",
    "#         BMI_band.append(0)\n",
    "#     elif b>=20 and b <30:\n",
    "#         BMI_band.append(1)\n",
    "#     elif b>=30 and b <40:\n",
    "#         BMI_band.append(2)\n",
    "#     elif b>=30:\n",
    "#         BMI_band.append(3)\n",
    "        \n",
    "# df['BMI_band']=BMI_band\n",
    "# df=df.drop('BMI',axis=1)\n",
    " \n",
    "# df.head()"
   ]
  },
  {
   "cell_type": "code",
   "execution_count": 8,
   "metadata": {},
   "outputs": [],
   "source": [
    "# Weight_loss_band=[]\n",
    "# for w in df['Weight_loss']:\n",
    "#     if w <0.05:\n",
    "#         Weight_loss_band.append(0)\n",
    "#     elif w>=0.05:\n",
    "#         Weight_loss_band.append(1)\n",
    "        \n",
    "# df['Weight_loss_band']=Weight_loss_band\n",
    "# df=df.drop('Weight_loss',axis=1)\n"
   ]
  },
  {
   "cell_type": "code",
   "execution_count": 15,
   "metadata": {},
   "outputs": [],
   "source": [
    " df= pd.read_excel('demo_steps.xlsx')"
   ]
  },
  {
   "cell_type": "code",
   "execution_count": 16,
   "metadata": {},
   "outputs": [
    {
     "data": {
      "text/html": [
       "<div>\n",
       "<style scoped>\n",
       "    .dataframe tbody tr th:only-of-type {\n",
       "        vertical-align: middle;\n",
       "    }\n",
       "\n",
       "    .dataframe tbody tr th {\n",
       "        vertical-align: top;\n",
       "    }\n",
       "\n",
       "    .dataframe thead th {\n",
       "        text-align: right;\n",
       "    }\n",
       "</style>\n",
       "<table border=\"1\" class=\"dataframe\">\n",
       "  <thead>\n",
       "    <tr style=\"text-align: right;\">\n",
       "      <th></th>\n",
       "      <th>studyID</th>\n",
       "      <th>Group</th>\n",
       "      <th>Age</th>\n",
       "      <th>Gender</th>\n",
       "      <th>BMI</th>\n",
       "      <th>Weight_loss_band</th>\n",
       "      <th>Steps</th>\n",
       "    </tr>\n",
       "  </thead>\n",
       "  <tbody>\n",
       "    <tr>\n",
       "      <th>0</th>\n",
       "      <td>2001</td>\n",
       "      <td>0</td>\n",
       "      <td>28</td>\n",
       "      <td>0</td>\n",
       "      <td>36.24</td>\n",
       "      <td>1</td>\n",
       "      <td>10723.455556</td>\n",
       "    </tr>\n",
       "    <tr>\n",
       "      <th>1</th>\n",
       "      <td>2002</td>\n",
       "      <td>1</td>\n",
       "      <td>38</td>\n",
       "      <td>1</td>\n",
       "      <td>35.71</td>\n",
       "      <td>0</td>\n",
       "      <td>4654.916667</td>\n",
       "    </tr>\n",
       "    <tr>\n",
       "      <th>2</th>\n",
       "      <td>2003</td>\n",
       "      <td>0</td>\n",
       "      <td>26</td>\n",
       "      <td>1</td>\n",
       "      <td>42.80</td>\n",
       "      <td>0</td>\n",
       "      <td>5675.133333</td>\n",
       "    </tr>\n",
       "    <tr>\n",
       "      <th>3</th>\n",
       "      <td>2004</td>\n",
       "      <td>1</td>\n",
       "      <td>60</td>\n",
       "      <td>0</td>\n",
       "      <td>26.72</td>\n",
       "      <td>1</td>\n",
       "      <td>9855.843373</td>\n",
       "    </tr>\n",
       "    <tr>\n",
       "      <th>4</th>\n",
       "      <td>2006</td>\n",
       "      <td>1</td>\n",
       "      <td>48</td>\n",
       "      <td>1</td>\n",
       "      <td>43.89</td>\n",
       "      <td>0</td>\n",
       "      <td>7595.388889</td>\n",
       "    </tr>\n",
       "  </tbody>\n",
       "</table>\n",
       "</div>"
      ],
      "text/plain": [
       "   studyID  Group  Age  Gender    BMI  Weight_loss_band         Steps\n",
       "0     2001      0   28       0  36.24                 1  10723.455556\n",
       "1     2002      1   38       1  35.71                 0   4654.916667\n",
       "2     2003      0   26       1  42.80                 0   5675.133333\n",
       "3     2004      1   60       0  26.72                 1   9855.843373\n",
       "4     2006      1   48       1  43.89                 0   7595.388889"
      ]
     },
     "execution_count": 16,
     "metadata": {},
     "output_type": "execute_result"
    }
   ],
   "source": [
    "df.head()"
   ]
  },
  {
   "cell_type": "code",
   "execution_count": 17,
   "metadata": {},
   "outputs": [
    {
     "data": {
      "text/html": [
       "<div>\n",
       "<style scoped>\n",
       "    .dataframe tbody tr th:only-of-type {\n",
       "        vertical-align: middle;\n",
       "    }\n",
       "\n",
       "    .dataframe tbody tr th {\n",
       "        vertical-align: top;\n",
       "    }\n",
       "\n",
       "    .dataframe thead th {\n",
       "        text-align: right;\n",
       "    }\n",
       "</style>\n",
       "<table border=\"1\" class=\"dataframe\">\n",
       "  <thead>\n",
       "    <tr style=\"text-align: right;\">\n",
       "      <th></th>\n",
       "      <th>studyID</th>\n",
       "      <th>Group</th>\n",
       "      <th>Age</th>\n",
       "      <th>Gender</th>\n",
       "      <th>BMI</th>\n",
       "      <th>Weight_loss_band</th>\n",
       "    </tr>\n",
       "  </thead>\n",
       "  <tbody>\n",
       "    <tr>\n",
       "      <th>0</th>\n",
       "      <td>2001</td>\n",
       "      <td>0</td>\n",
       "      <td>28</td>\n",
       "      <td>0</td>\n",
       "      <td>36.24</td>\n",
       "      <td>1</td>\n",
       "    </tr>\n",
       "    <tr>\n",
       "      <th>1</th>\n",
       "      <td>2002</td>\n",
       "      <td>1</td>\n",
       "      <td>38</td>\n",
       "      <td>1</td>\n",
       "      <td>35.71</td>\n",
       "      <td>0</td>\n",
       "    </tr>\n",
       "    <tr>\n",
       "      <th>2</th>\n",
       "      <td>2003</td>\n",
       "      <td>0</td>\n",
       "      <td>26</td>\n",
       "      <td>1</td>\n",
       "      <td>42.80</td>\n",
       "      <td>0</td>\n",
       "    </tr>\n",
       "    <tr>\n",
       "      <th>3</th>\n",
       "      <td>2004</td>\n",
       "      <td>1</td>\n",
       "      <td>60</td>\n",
       "      <td>0</td>\n",
       "      <td>26.72</td>\n",
       "      <td>1</td>\n",
       "    </tr>\n",
       "    <tr>\n",
       "      <th>4</th>\n",
       "      <td>2006</td>\n",
       "      <td>1</td>\n",
       "      <td>48</td>\n",
       "      <td>1</td>\n",
       "      <td>43.89</td>\n",
       "      <td>0</td>\n",
       "    </tr>\n",
       "  </tbody>\n",
       "</table>\n",
       "</div>"
      ],
      "text/plain": [
       "   studyID  Group  Age  Gender    BMI  Weight_loss_band\n",
       "0     2001      0   28       0  36.24                 1\n",
       "1     2002      1   38       1  35.71                 0\n",
       "2     2003      0   26       1  42.80                 0\n",
       "3     2004      1   60       0  26.72                 1\n",
       "4     2006      1   48       1  43.89                 0"
      ]
     },
     "execution_count": 17,
     "metadata": {},
     "output_type": "execute_result"
    }
   ],
   "source": [
    "df1=df.drop('Steps', axis=1)\n",
    "df1.head()"
   ]
  },
  {
   "cell_type": "code",
   "execution_count": 18,
   "metadata": {},
   "outputs": [
    {
     "name": "stdout",
     "output_type": "stream",
     "text": [
      "logreg training acuracy=  0.75\n",
      "logreg test accuracy=  0.5833333333333334\n"
     ]
    }
   ],
   "source": [
    "#random1\n",
    "from sklearn.model_selection import train_test_split\n",
    "train_df, test_df = train_test_split(df1, test_size=0.2, random_state=100)\n",
    "X_train = train_df.drop('Weight_loss_band', axis=1)\n",
    "Y_train = train_df['Weight_loss_band']  \n",
    "X_test  = test_df.drop('Weight_loss_band', axis=1)\n",
    "Y_test = test_df['Weight_loss_band']  \n",
    "logreg = LogisticRegression()  \n",
    "logreg.fit(X_train, Y_train)\n",
    "logreg_train_acc = logreg.score(X_train, Y_train)\n",
    "logreg_test_acc = logreg.score(X_test, Y_test)\n",
    "print ('logreg training acuracy= ',logreg_train_acc)\n",
    "print('logreg test accuracy= ',logreg_test_acc)"
   ]
  },
  {
   "cell_type": "code",
   "execution_count": 19,
   "metadata": {},
   "outputs": [
    {
     "name": "stdout",
     "output_type": "stream",
     "text": [
      "logreg training acuracy=  0.7045454545454546\n",
      "logreg test accuracy=  0.5833333333333334\n"
     ]
    }
   ],
   "source": [
    "#random2\n",
    "from sklearn.model_selection import train_test_split\n",
    "train_df, test_df = train_test_split(df1, test_size=0.2, random_state=122)\n",
    "X_train = train_df.drop('Weight_loss_band', axis=1)\n",
    "Y_train = train_df['Weight_loss_band']  \n",
    "X_test  = test_df.drop('Weight_loss_band', axis=1)\n",
    "Y_test = test_df['Weight_loss_band']  \n",
    "logreg = LogisticRegression()  \n",
    "logreg.fit(X_train, Y_train)\n",
    "logreg_train_acc = logreg.score(X_train, Y_train)\n",
    "logreg_test_acc = logreg.score(X_test, Y_test)\n",
    "print ('logreg training acuracy= ',logreg_train_acc)\n",
    "print('logreg test accuracy= ',logreg_test_acc)"
   ]
  },
  {
   "cell_type": "code",
   "execution_count": 20,
   "metadata": {},
   "outputs": [
    {
     "name": "stdout",
     "output_type": "stream",
     "text": [
      "logreg training acuracy=  0.8181818181818182\n",
      "logreg test accuracy=  0.4166666666666667\n"
     ]
    }
   ],
   "source": [
    "#random3\n",
    "from sklearn.model_selection import train_test_split\n",
    "train_df, test_df = train_test_split(df1, test_size=0.2, random_state=200)\n",
    "X_train = train_df.drop('Weight_loss_band', axis=1)\n",
    "Y_train = train_df['Weight_loss_band']  \n",
    "X_test  = test_df.drop('Weight_loss_band', axis=1)\n",
    "Y_test = test_df['Weight_loss_band']  \n",
    "logreg = LogisticRegression()  \n",
    "logreg.fit(X_train, Y_train)\n",
    "logreg_train_acc = logreg.score(X_train, Y_train)\n",
    "logreg_test_acc = logreg.score(X_test, Y_test)\n",
    "print ('logreg training acuracy= ',logreg_train_acc)\n",
    "print('logreg test accuracy= ',logreg_test_acc)"
   ]
  },
  {
   "cell_type": "code",
   "execution_count": 21,
   "metadata": {},
   "outputs": [
    {
     "name": "stdout",
     "output_type": "stream",
     "text": [
      "logreg training acuracy=  0.6590909090909091\n",
      "logreg test accuracy=  0.5833333333333334\n"
     ]
    }
   ],
   "source": [
    "#random4\n",
    "from sklearn.model_selection import train_test_split\n",
    "train_df, test_df = train_test_split(df1, test_size=0.2, random_state=300)\n",
    "X_train = train_df.drop('Weight_loss_band', axis=1)\n",
    "Y_train = train_df['Weight_loss_band']  \n",
    "X_test  = test_df.drop('Weight_loss_band', axis=1)\n",
    "Y_test = test_df['Weight_loss_band']  \n",
    "logreg = LogisticRegression()  \n",
    "logreg.fit(X_train, Y_train)\n",
    "logreg_train_acc = logreg.score(X_train, Y_train)\n",
    "logreg_test_acc = logreg.score(X_test, Y_test)\n",
    "print ('logreg training acuracy= ',logreg_train_acc)\n",
    "print('logreg test accuracy= ',logreg_test_acc)"
   ]
  },
  {
   "cell_type": "code",
   "execution_count": 22,
   "metadata": {},
   "outputs": [
    {
     "name": "stdout",
     "output_type": "stream",
     "text": [
      "logreg training acuracy=  0.6818181818181818\n",
      "logreg test accuracy=  0.75\n"
     ]
    }
   ],
   "source": [
    "#random5\n",
    "from sklearn.model_selection import train_test_split\n",
    "train_df, test_df = train_test_split(df1, test_size=0.2, random_state=368)\n",
    "X_train = train_df.drop('Weight_loss_band', axis=1)\n",
    "Y_train = train_df['Weight_loss_band']  \n",
    "X_test  = test_df.drop('Weight_loss_band', axis=1)\n",
    "Y_test = test_df['Weight_loss_band']  \n",
    "logreg = LogisticRegression()  \n",
    "logreg.fit(X_train, Y_train)\n",
    "logreg_train_acc = logreg.score(X_train, Y_train)\n",
    "logreg_test_acc = logreg.score(X_test, Y_test)\n",
    "print ('logreg training acuracy= ',logreg_train_acc)\n",
    "print('logreg test accuracy= ',logreg_test_acc)"
   ]
  },
  {
   "cell_type": "code",
   "execution_count": 23,
   "metadata": {},
   "outputs": [
    {
     "name": "stdout",
     "output_type": "stream",
     "text": [
      "logreg training acuracy=  0.7272727272727273\n",
      "logreg test accuracy=  0.5\n"
     ]
    }
   ],
   "source": [
    "#random6\n",
    "from sklearn.model_selection import train_test_split\n",
    "train_df, test_df = train_test_split(df1, test_size=0.2, random_state=400)\n",
    "X_train = train_df.drop('Weight_loss_band', axis=1)\n",
    "Y_train = train_df['Weight_loss_band']  \n",
    "X_test  = test_df.drop('Weight_loss_band', axis=1)\n",
    "Y_test = test_df['Weight_loss_band']  \n",
    "logreg = LogisticRegression()  \n",
    "logreg.fit(X_train, Y_train)\n",
    "logreg_train_acc = logreg.score(X_train, Y_train)\n",
    "logreg_test_acc = logreg.score(X_test, Y_test)\n",
    "print ('logreg training acuracy= ',logreg_train_acc)\n",
    "print('logreg test accuracy= ',logreg_test_acc)"
   ]
  },
  {
   "cell_type": "code",
   "execution_count": 24,
   "metadata": {},
   "outputs": [
    {
     "name": "stdout",
     "output_type": "stream",
     "text": [
      "logreg training acuracy=  0.7045454545454546\n",
      "logreg test accuracy=  0.5833333333333334\n"
     ]
    }
   ],
   "source": [
    "#random7\n",
    "from sklearn.model_selection import train_test_split\n",
    "train_df, test_df = train_test_split(df1, test_size=0.2, random_state=500)\n",
    "X_train = train_df.drop('Weight_loss_band', axis=1)\n",
    "Y_train = train_df['Weight_loss_band']  \n",
    "X_test  = test_df.drop('Weight_loss_band', axis=1)\n",
    "Y_test = test_df['Weight_loss_band']  \n",
    "logreg = LogisticRegression()  \n",
    "logreg.fit(X_train, Y_train)\n",
    "logreg_train_acc = logreg.score(X_train, Y_train)\n",
    "logreg_test_acc = logreg.score(X_test, Y_test)\n",
    "print ('logreg training acuracy= ',logreg_train_acc)\n",
    "print('logreg test accuracy= ',logreg_test_acc)"
   ]
  },
  {
   "cell_type": "code",
   "execution_count": 25,
   "metadata": {},
   "outputs": [
    {
     "name": "stdout",
     "output_type": "stream",
     "text": [
      "logreg training acuracy=  0.6590909090909091\n",
      "logreg test accuracy=  0.8333333333333334\n"
     ]
    }
   ],
   "source": [
    "#random8\n",
    "from sklearn.model_selection import train_test_split\n",
    "train_df, test_df = train_test_split(df1, test_size=0.2, random_state=600)\n",
    "X_train = train_df.drop('Weight_loss_band', axis=1)\n",
    "Y_train = train_df['Weight_loss_band']  \n",
    "X_test  = test_df.drop('Weight_loss_band', axis=1)\n",
    "Y_test = test_df['Weight_loss_band']  \n",
    "logreg = LogisticRegression()  \n",
    "logreg.fit(X_train, Y_train)\n",
    "logreg_train_acc = logreg.score(X_train, Y_train)\n",
    "logreg_test_acc = logreg.score(X_test, Y_test)\n",
    "print ('logreg training acuracy= ',logreg_train_acc)\n",
    "print('logreg test accuracy= ',logreg_test_acc)"
   ]
  },
  {
   "cell_type": "code",
   "execution_count": 26,
   "metadata": {},
   "outputs": [
    {
     "name": "stdout",
     "output_type": "stream",
     "text": [
      "logreg training acuracy=  0.7727272727272727\n",
      "logreg test accuracy=  0.5833333333333334\n"
     ]
    }
   ],
   "source": [
    "#random9\n",
    "from sklearn.model_selection import train_test_split\n",
    "train_df, test_df = train_test_split(df1, test_size=0.2, random_state=700)\n",
    "X_train = train_df.drop('Weight_loss_band', axis=1)\n",
    "Y_train = train_df['Weight_loss_band']  \n",
    "X_test  = test_df.drop('Weight_loss_band', axis=1)\n",
    "Y_test = test_df['Weight_loss_band']  \n",
    "logreg = LogisticRegression()  \n",
    "logreg.fit(X_train, Y_train)\n",
    "logreg_train_acc = logreg.score(X_train, Y_train)\n",
    "logreg_test_acc = logreg.score(X_test, Y_test)\n",
    "print ('logreg training acuracy= ',logreg_train_acc)\n",
    "print('logreg test accuracy= ',logreg_test_acc)"
   ]
  },
  {
   "cell_type": "code",
   "execution_count": 27,
   "metadata": {},
   "outputs": [
    {
     "name": "stdout",
     "output_type": "stream",
     "text": [
      "logreg training acuracy=  0.6363636363636364\n",
      "logreg test accuracy=  0.6666666666666666\n"
     ]
    }
   ],
   "source": [
    "#random10\n",
    "from sklearn.model_selection import train_test_split\n",
    "train_df, test_df = train_test_split(df1, test_size=0.2, random_state=22)\n",
    "X_train = train_df.drop('Weight_loss_band', axis=1)\n",
    "Y_train = train_df['Weight_loss_band']  \n",
    "X_test  = test_df.drop('Weight_loss_band', axis=1)\n",
    "Y_test = test_df['Weight_loss_band']  \n",
    "logreg = LogisticRegression()  \n",
    "logreg.fit(X_train, Y_train)\n",
    "logreg_train_acc = logreg.score(X_train, Y_train)\n",
    "logreg_test_acc = logreg.score(X_test, Y_test)\n",
    "print ('logreg training acuracy= ',logreg_train_acc)\n",
    "print('logreg test accuracy= ',logreg_test_acc)"
   ]
  },
  {
   "cell_type": "code",
   "execution_count": 28,
   "metadata": {},
   "outputs": [],
   "source": [
    "stepcounts = pd.read_csv('step_count_all_includenewstudyID.csv')"
   ]
  },
  {
   "cell_type": "code",
   "execution_count": 29,
   "metadata": {},
   "outputs": [
    {
     "data": {
      "text/html": [
       "<div>\n",
       "<style scoped>\n",
       "    .dataframe tbody tr th:only-of-type {\n",
       "        vertical-align: middle;\n",
       "    }\n",
       "\n",
       "    .dataframe tbody tr th {\n",
       "        vertical-align: top;\n",
       "    }\n",
       "\n",
       "    .dataframe thead th {\n",
       "        text-align: right;\n",
       "    }\n",
       "</style>\n",
       "<table border=\"1\" class=\"dataframe\">\n",
       "  <thead>\n",
       "    <tr style=\"text-align: right;\">\n",
       "      <th></th>\n",
       "      <th>studyID</th>\n",
       "      <th>Steps</th>\n",
       "      <th>Date</th>\n",
       "      <th>Weight</th>\n",
       "      <th>BMI</th>\n",
       "    </tr>\n",
       "  </thead>\n",
       "  <tbody>\n",
       "    <tr>\n",
       "      <th>0</th>\n",
       "      <td>2001</td>\n",
       "      <td>2931.0</td>\n",
       "      <td>11/17/14</td>\n",
       "      <td>253.40</td>\n",
       "      <td>36.24</td>\n",
       "    </tr>\n",
       "    <tr>\n",
       "      <th>1</th>\n",
       "      <td>2001</td>\n",
       "      <td>2264.0</td>\n",
       "      <td>11/18/14</td>\n",
       "      <td>253.55</td>\n",
       "      <td>36.26</td>\n",
       "    </tr>\n",
       "    <tr>\n",
       "      <th>2</th>\n",
       "      <td>2001</td>\n",
       "      <td>5347.0</td>\n",
       "      <td>11/19/14</td>\n",
       "      <td>253.71</td>\n",
       "      <td>36.28</td>\n",
       "    </tr>\n",
       "    <tr>\n",
       "      <th>3</th>\n",
       "      <td>2001</td>\n",
       "      <td>5924.0</td>\n",
       "      <td>11/20/14</td>\n",
       "      <td>253.87</td>\n",
       "      <td>36.30</td>\n",
       "    </tr>\n",
       "    <tr>\n",
       "      <th>4</th>\n",
       "      <td>2001</td>\n",
       "      <td>6961.0</td>\n",
       "      <td>11/21/14</td>\n",
       "      <td>254.02</td>\n",
       "      <td>36.33</td>\n",
       "    </tr>\n",
       "  </tbody>\n",
       "</table>\n",
       "</div>"
      ],
      "text/plain": [
       "   studyID   Steps      Date  Weight    BMI\n",
       "0     2001  2931.0  11/17/14  253.40  36.24\n",
       "1     2001  2264.0  11/18/14  253.55  36.26\n",
       "2     2001  5347.0  11/19/14  253.71  36.28\n",
       "3     2001  5924.0  11/20/14  253.87  36.30\n",
       "4     2001  6961.0  11/21/14  254.02  36.33"
      ]
     },
     "execution_count": 29,
     "metadata": {},
     "output_type": "execute_result"
    }
   ],
   "source": [
    "stepcounts.head()"
   ]
  },
  {
   "cell_type": "code",
   "execution_count": 30,
   "metadata": {},
   "outputs": [
    {
     "data": {
      "text/html": [
       "<div>\n",
       "<style scoped>\n",
       "    .dataframe tbody tr th:only-of-type {\n",
       "        vertical-align: middle;\n",
       "    }\n",
       "\n",
       "    .dataframe tbody tr th {\n",
       "        vertical-align: top;\n",
       "    }\n",
       "\n",
       "    .dataframe thead th {\n",
       "        text-align: right;\n",
       "    }\n",
       "</style>\n",
       "<table border=\"1\" class=\"dataframe\">\n",
       "  <thead>\n",
       "    <tr style=\"text-align: right;\">\n",
       "      <th></th>\n",
       "      <th>studyID</th>\n",
       "      <th>Steps</th>\n",
       "    </tr>\n",
       "  </thead>\n",
       "  <tbody>\n",
       "    <tr>\n",
       "      <th>0</th>\n",
       "      <td>2001</td>\n",
       "      <td>2931.0</td>\n",
       "    </tr>\n",
       "    <tr>\n",
       "      <th>1</th>\n",
       "      <td>2001</td>\n",
       "      <td>2264.0</td>\n",
       "    </tr>\n",
       "    <tr>\n",
       "      <th>2</th>\n",
       "      <td>2001</td>\n",
       "      <td>5347.0</td>\n",
       "    </tr>\n",
       "    <tr>\n",
       "      <th>3</th>\n",
       "      <td>2001</td>\n",
       "      <td>5924.0</td>\n",
       "    </tr>\n",
       "    <tr>\n",
       "      <th>4</th>\n",
       "      <td>2001</td>\n",
       "      <td>6961.0</td>\n",
       "    </tr>\n",
       "  </tbody>\n",
       "</table>\n",
       "</div>"
      ],
      "text/plain": [
       "   studyID   Steps\n",
       "0     2001  2931.0\n",
       "1     2001  2264.0\n",
       "2     2001  5347.0\n",
       "3     2001  5924.0\n",
       "4     2001  6961.0"
      ]
     },
     "execution_count": 30,
     "metadata": {},
     "output_type": "execute_result"
    }
   ],
   "source": [
    "step_df=stepcounts.loc[:,'studyID':'Steps']\n",
    "step_df.head()"
   ]
  },
  {
   "cell_type": "code",
   "execution_count": 31,
   "metadata": {},
   "outputs": [],
   "source": [
    "step_df.loc[step_df['Steps'] == 0,'Steps'] = np.nan"
   ]
  },
  {
   "cell_type": "code",
   "execution_count": 32,
   "metadata": {},
   "outputs": [],
   "source": [
    "step_df=step_df.dropna()"
   ]
  },
  {
   "cell_type": "code",
   "execution_count": 33,
   "metadata": {},
   "outputs": [
    {
     "data": {
      "text/plain": [
       "4760"
      ]
     },
     "execution_count": 33,
     "metadata": {},
     "output_type": "execute_result"
    }
   ],
   "source": [
    "len(step_df)"
   ]
  },
  {
   "cell_type": "code",
   "execution_count": 34,
   "metadata": {},
   "outputs": [
    {
     "data": {
      "text/html": [
       "<div>\n",
       "<style scoped>\n",
       "    .dataframe tbody tr th:only-of-type {\n",
       "        vertical-align: middle;\n",
       "    }\n",
       "\n",
       "    .dataframe tbody tr th {\n",
       "        vertical-align: top;\n",
       "    }\n",
       "\n",
       "    .dataframe thead th {\n",
       "        text-align: right;\n",
       "    }\n",
       "</style>\n",
       "<table border=\"1\" class=\"dataframe\">\n",
       "  <thead>\n",
       "    <tr style=\"text-align: right;\">\n",
       "      <th></th>\n",
       "      <th>studyID</th>\n",
       "      <th>Steps</th>\n",
       "    </tr>\n",
       "  </thead>\n",
       "  <tbody>\n",
       "    <tr>\n",
       "      <th>0</th>\n",
       "      <td>2001</td>\n",
       "      <td>10723.455556</td>\n",
       "    </tr>\n",
       "    <tr>\n",
       "      <th>1</th>\n",
       "      <td>2002</td>\n",
       "      <td>4654.916667</td>\n",
       "    </tr>\n",
       "    <tr>\n",
       "      <th>2</th>\n",
       "      <td>2003</td>\n",
       "      <td>5675.133333</td>\n",
       "    </tr>\n",
       "    <tr>\n",
       "      <th>3</th>\n",
       "      <td>2004</td>\n",
       "      <td>9855.843373</td>\n",
       "    </tr>\n",
       "    <tr>\n",
       "      <th>4</th>\n",
       "      <td>2006</td>\n",
       "      <td>7595.388889</td>\n",
       "    </tr>\n",
       "  </tbody>\n",
       "</table>\n",
       "</div>"
      ],
      "text/plain": [
       "   studyID         Steps\n",
       "0     2001  10723.455556\n",
       "1     2002   4654.916667\n",
       "2     2003   5675.133333\n",
       "3     2004   9855.843373\n",
       "4     2006   7595.388889"
      ]
     },
     "execution_count": 34,
     "metadata": {},
     "output_type": "execute_result"
    }
   ],
   "source": [
    "counts_df=step_df.groupby('studyID', as_index=False)['Steps'].mean()\n",
    "counts_df.head()"
   ]
  },
  {
   "cell_type": "code",
   "execution_count": 35,
   "metadata": {},
   "outputs": [],
   "source": [
    "new_df= pd.concat([df, counts_df['Steps']], axis=1, sort=False)"
   ]
  },
  {
   "cell_type": "code",
   "execution_count": 36,
   "metadata": {},
   "outputs": [
    {
     "data": {
      "text/html": [
       "<div>\n",
       "<style scoped>\n",
       "    .dataframe tbody tr th:only-of-type {\n",
       "        vertical-align: middle;\n",
       "    }\n",
       "\n",
       "    .dataframe tbody tr th {\n",
       "        vertical-align: top;\n",
       "    }\n",
       "\n",
       "    .dataframe thead th {\n",
       "        text-align: right;\n",
       "    }\n",
       "</style>\n",
       "<table border=\"1\" class=\"dataframe\">\n",
       "  <thead>\n",
       "    <tr style=\"text-align: right;\">\n",
       "      <th></th>\n",
       "      <th>studyID</th>\n",
       "      <th>Group</th>\n",
       "      <th>Age</th>\n",
       "      <th>Gender</th>\n",
       "      <th>BMI</th>\n",
       "      <th>Weight_loss_band</th>\n",
       "      <th>Steps</th>\n",
       "      <th>Steps</th>\n",
       "    </tr>\n",
       "  </thead>\n",
       "  <tbody>\n",
       "    <tr>\n",
       "      <th>0</th>\n",
       "      <td>2001.0</td>\n",
       "      <td>0.0</td>\n",
       "      <td>28.0</td>\n",
       "      <td>0.0</td>\n",
       "      <td>36.24</td>\n",
       "      <td>1.0</td>\n",
       "      <td>10723.455556</td>\n",
       "      <td>10723.455556</td>\n",
       "    </tr>\n",
       "    <tr>\n",
       "      <th>1</th>\n",
       "      <td>2002.0</td>\n",
       "      <td>1.0</td>\n",
       "      <td>38.0</td>\n",
       "      <td>1.0</td>\n",
       "      <td>35.71</td>\n",
       "      <td>0.0</td>\n",
       "      <td>4654.916667</td>\n",
       "      <td>4654.916667</td>\n",
       "    </tr>\n",
       "    <tr>\n",
       "      <th>2</th>\n",
       "      <td>2003.0</td>\n",
       "      <td>0.0</td>\n",
       "      <td>26.0</td>\n",
       "      <td>1.0</td>\n",
       "      <td>42.80</td>\n",
       "      <td>0.0</td>\n",
       "      <td>5675.133333</td>\n",
       "      <td>5675.133333</td>\n",
       "    </tr>\n",
       "    <tr>\n",
       "      <th>3</th>\n",
       "      <td>2004.0</td>\n",
       "      <td>1.0</td>\n",
       "      <td>60.0</td>\n",
       "      <td>0.0</td>\n",
       "      <td>26.72</td>\n",
       "      <td>1.0</td>\n",
       "      <td>9855.843373</td>\n",
       "      <td>9855.843373</td>\n",
       "    </tr>\n",
       "    <tr>\n",
       "      <th>4</th>\n",
       "      <td>2006.0</td>\n",
       "      <td>1.0</td>\n",
       "      <td>48.0</td>\n",
       "      <td>1.0</td>\n",
       "      <td>43.89</td>\n",
       "      <td>0.0</td>\n",
       "      <td>7595.388889</td>\n",
       "      <td>7595.388889</td>\n",
       "    </tr>\n",
       "  </tbody>\n",
       "</table>\n",
       "</div>"
      ],
      "text/plain": [
       "   studyID  Group   Age  Gender    BMI  Weight_loss_band         Steps  \\\n",
       "0   2001.0    0.0  28.0     0.0  36.24               1.0  10723.455556   \n",
       "1   2002.0    1.0  38.0     1.0  35.71               0.0   4654.916667   \n",
       "2   2003.0    0.0  26.0     1.0  42.80               0.0   5675.133333   \n",
       "3   2004.0    1.0  60.0     0.0  26.72               1.0   9855.843373   \n",
       "4   2006.0    1.0  48.0     1.0  43.89               0.0   7595.388889   \n",
       "\n",
       "          Steps  \n",
       "0  10723.455556  \n",
       "1   4654.916667  \n",
       "2   5675.133333  \n",
       "3   9855.843373  \n",
       "4   7595.388889  "
      ]
     },
     "execution_count": 36,
     "metadata": {},
     "output_type": "execute_result"
    }
   ],
   "source": [
    "new_df.head()"
   ]
  },
  {
   "cell_type": "code",
   "execution_count": 37,
   "metadata": {
    "scrolled": false
   },
   "outputs": [
    {
     "data": {
      "text/html": [
       "<div>\n",
       "<style scoped>\n",
       "    .dataframe tbody tr th:only-of-type {\n",
       "        vertical-align: middle;\n",
       "    }\n",
       "\n",
       "    .dataframe tbody tr th {\n",
       "        vertical-align: top;\n",
       "    }\n",
       "\n",
       "    .dataframe thead th {\n",
       "        text-align: right;\n",
       "    }\n",
       "</style>\n",
       "<table border=\"1\" class=\"dataframe\">\n",
       "  <thead>\n",
       "    <tr style=\"text-align: right;\">\n",
       "      <th></th>\n",
       "      <th>studyID</th>\n",
       "      <th>Group</th>\n",
       "      <th>Age</th>\n",
       "      <th>Gender</th>\n",
       "      <th>BMI</th>\n",
       "      <th>Weight_loss_band</th>\n",
       "      <th>Steps</th>\n",
       "      <th>Steps</th>\n",
       "    </tr>\n",
       "  </thead>\n",
       "  <tbody>\n",
       "    <tr>\n",
       "      <th>count</th>\n",
       "      <td>56.000000</td>\n",
       "      <td>56.000000</td>\n",
       "      <td>56.000000</td>\n",
       "      <td>56.000000</td>\n",
       "      <td>56.000000</td>\n",
       "      <td>56.000000</td>\n",
       "      <td>56.000000</td>\n",
       "      <td>57.000000</td>\n",
       "    </tr>\n",
       "    <tr>\n",
       "      <th>mean</th>\n",
       "      <td>2043.535714</td>\n",
       "      <td>0.517857</td>\n",
       "      <td>43.232143</td>\n",
       "      <td>0.553571</td>\n",
       "      <td>29.358214</td>\n",
       "      <td>0.339286</td>\n",
       "      <td>9570.787619</td>\n",
       "      <td>9511.987926</td>\n",
       "    </tr>\n",
       "    <tr>\n",
       "      <th>std</th>\n",
       "      <td>25.471527</td>\n",
       "      <td>0.504203</td>\n",
       "      <td>12.487071</td>\n",
       "      <td>0.501621</td>\n",
       "      <td>4.913523</td>\n",
       "      <td>0.477752</td>\n",
       "      <td>2913.407630</td>\n",
       "      <td>2921.206191</td>\n",
       "    </tr>\n",
       "    <tr>\n",
       "      <th>min</th>\n",
       "      <td>2001.000000</td>\n",
       "      <td>0.000000</td>\n",
       "      <td>25.000000</td>\n",
       "      <td>0.000000</td>\n",
       "      <td>17.710000</td>\n",
       "      <td>0.000000</td>\n",
       "      <td>3087.068182</td>\n",
       "      <td>3087.068182</td>\n",
       "    </tr>\n",
       "    <tr>\n",
       "      <th>25%</th>\n",
       "      <td>2023.750000</td>\n",
       "      <td>0.000000</td>\n",
       "      <td>33.000000</td>\n",
       "      <td>0.000000</td>\n",
       "      <td>26.577500</td>\n",
       "      <td>0.000000</td>\n",
       "      <td>7818.470930</td>\n",
       "      <td>7802.383721</td>\n",
       "    </tr>\n",
       "    <tr>\n",
       "      <th>50%</th>\n",
       "      <td>2043.500000</td>\n",
       "      <td>1.000000</td>\n",
       "      <td>42.500000</td>\n",
       "      <td>1.000000</td>\n",
       "      <td>28.515000</td>\n",
       "      <td>0.000000</td>\n",
       "      <td>9819.549465</td>\n",
       "      <td>9783.255556</td>\n",
       "    </tr>\n",
       "    <tr>\n",
       "      <th>75%</th>\n",
       "      <td>2066.250000</td>\n",
       "      <td>1.000000</td>\n",
       "      <td>52.000000</td>\n",
       "      <td>1.000000</td>\n",
       "      <td>31.162500</td>\n",
       "      <td>1.000000</td>\n",
       "      <td>11361.319540</td>\n",
       "      <td>11297.533333</td>\n",
       "    </tr>\n",
       "    <tr>\n",
       "      <th>max</th>\n",
       "      <td>2085.000000</td>\n",
       "      <td>1.000000</td>\n",
       "      <td>78.000000</td>\n",
       "      <td>1.000000</td>\n",
       "      <td>43.890000</td>\n",
       "      <td>1.000000</td>\n",
       "      <td>18288.966667</td>\n",
       "      <td>18288.966667</td>\n",
       "    </tr>\n",
       "  </tbody>\n",
       "</table>\n",
       "</div>"
      ],
      "text/plain": [
       "           studyID      Group        Age     Gender        BMI  \\\n",
       "count    56.000000  56.000000  56.000000  56.000000  56.000000   \n",
       "mean   2043.535714   0.517857  43.232143   0.553571  29.358214   \n",
       "std      25.471527   0.504203  12.487071   0.501621   4.913523   \n",
       "min    2001.000000   0.000000  25.000000   0.000000  17.710000   \n",
       "25%    2023.750000   0.000000  33.000000   0.000000  26.577500   \n",
       "50%    2043.500000   1.000000  42.500000   1.000000  28.515000   \n",
       "75%    2066.250000   1.000000  52.000000   1.000000  31.162500   \n",
       "max    2085.000000   1.000000  78.000000   1.000000  43.890000   \n",
       "\n",
       "       Weight_loss_band         Steps         Steps  \n",
       "count         56.000000     56.000000     57.000000  \n",
       "mean           0.339286   9570.787619   9511.987926  \n",
       "std            0.477752   2913.407630   2921.206191  \n",
       "min            0.000000   3087.068182   3087.068182  \n",
       "25%            0.000000   7818.470930   7802.383721  \n",
       "50%            0.000000   9819.549465   9783.255556  \n",
       "75%            1.000000  11361.319540  11297.533333  \n",
       "max            1.000000  18288.966667  18288.966667  "
      ]
     },
     "execution_count": 37,
     "metadata": {},
     "output_type": "execute_result"
    }
   ],
   "source": [
    "new_df.describe()"
   ]
  },
  {
   "cell_type": "code",
   "execution_count": 38,
   "metadata": {},
   "outputs": [],
   "source": [
    "# Steps_band=[]\n",
    "# for s in new_df['Steps']:\n",
    "#     if s >=3000 and s <6500:\n",
    "#         Steps_band.append(0)\n",
    "#     elif s>=6500 and s <10000:\n",
    "#         Steps_band.append(1)\n",
    "#     elif s>=10000 and s <13500:\n",
    "#         Steps_band.append(2)\n",
    "#     elif s>=13500 and s <17000:\n",
    "#         Steps_band.append(3)\n",
    "#     elif s>=17000:\n",
    "#         Steps_band.append(4)    \n",
    "        \n",
    "# new_df['Steps_band']=Steps_band\n",
    "# new_df=new_df.drop('Steps',axis=1)\n",
    "# new_df.head()"
   ]
  },
  {
   "cell_type": "code",
   "execution_count": 39,
   "metadata": {},
   "outputs": [
    {
     "name": "stdout",
     "output_type": "stream",
     "text": [
      "logreg training acuracy=  0.75\n",
      "logreg test accuracy=  0.75\n"
     ]
    }
   ],
   "source": [
    "#random11\n",
    "from sklearn.model_selection import train_test_split\n",
    "train_df, test_df = train_test_split(df, test_size=0.2, random_state=100)\n",
    "X_train = train_df.drop('Weight_loss_band', axis=1)\n",
    "Y_train = train_df['Weight_loss_band']  \n",
    "X_test  = test_df.drop('Weight_loss_band', axis=1)\n",
    "Y_test = test_df['Weight_loss_band']  \n",
    "logreg = LogisticRegression()  \n",
    "logreg.fit(X_train, Y_train)\n",
    "logreg_train_acc = logreg.score(X_train, Y_train)\n",
    "logreg_test_acc = logreg.score(X_test, Y_test)\n",
    "print ('logreg training acuracy= ',logreg_train_acc)\n",
    "print('logreg test accuracy= ',logreg_test_acc)"
   ]
  },
  {
   "cell_type": "code",
   "execution_count": 40,
   "metadata": {},
   "outputs": [
    {
     "name": "stdout",
     "output_type": "stream",
     "text": [
      "logreg training acuracy=  0.7272727272727273\n",
      "logreg test accuracy=  0.6666666666666666\n"
     ]
    }
   ],
   "source": [
    "#random12\n",
    "from sklearn.model_selection import train_test_split\n",
    "train_df, test_df = train_test_split(df, test_size=0.2, random_state=122)\n",
    "X_train = train_df.drop('Weight_loss_band', axis=1)\n",
    "Y_train = train_df['Weight_loss_band']  \n",
    "X_test  = test_df.drop('Weight_loss_band', axis=1)\n",
    "Y_test = test_df['Weight_loss_band']  \n",
    "logreg = LogisticRegression()  \n",
    "logreg.fit(X_train, Y_train)\n",
    "logreg_train_acc = logreg.score(X_train, Y_train)\n",
    "logreg_test_acc = logreg.score(X_test, Y_test)\n",
    "print ('logreg training acuracy= ',logreg_train_acc)\n",
    "print('logreg test accuracy= ',logreg_test_acc)"
   ]
  },
  {
   "cell_type": "code",
   "execution_count": 41,
   "metadata": {},
   "outputs": [
    {
     "name": "stdout",
     "output_type": "stream",
     "text": [
      "logreg training acuracy=  0.7954545454545454\n",
      "logreg test accuracy=  0.5\n"
     ]
    }
   ],
   "source": [
    "#random13\n",
    "from sklearn.model_selection import train_test_split\n",
    "train_df, test_df = train_test_split(df, test_size=0.2, random_state=200)\n",
    "X_train = train_df.drop('Weight_loss_band', axis=1)\n",
    "Y_train = train_df['Weight_loss_band']  \n",
    "X_test  = test_df.drop('Weight_loss_band', axis=1)\n",
    "Y_test = test_df['Weight_loss_band']  \n",
    "logreg = LogisticRegression()  \n",
    "logreg.fit(X_train, Y_train)\n",
    "logreg_train_acc = logreg.score(X_train, Y_train)\n",
    "logreg_test_acc = logreg.score(X_test, Y_test)\n",
    "print ('logreg training acuracy= ',logreg_train_acc)\n",
    "print('logreg test accuracy= ',logreg_test_acc)"
   ]
  },
  {
   "cell_type": "code",
   "execution_count": 42,
   "metadata": {},
   "outputs": [
    {
     "name": "stdout",
     "output_type": "stream",
     "text": [
      "logreg training acuracy=  0.7272727272727273\n",
      "logreg test accuracy=  0.6666666666666666\n"
     ]
    }
   ],
   "source": [
    "#random14\n",
    "from sklearn.model_selection import train_test_split\n",
    "train_df, test_df = train_test_split(df, test_size=0.2, random_state=300)\n",
    "X_train = train_df.drop('Weight_loss_band', axis=1)\n",
    "Y_train = train_df['Weight_loss_band']  \n",
    "X_test  = test_df.drop('Weight_loss_band', axis=1)\n",
    "Y_test = test_df['Weight_loss_band']  \n",
    "logreg = LogisticRegression()  \n",
    "logreg.fit(X_train, Y_train)\n",
    "logreg_train_acc = logreg.score(X_train, Y_train)\n",
    "logreg_test_acc = logreg.score(X_test, Y_test)\n",
    "print ('logreg training acuracy= ',logreg_train_acc)\n",
    "print('logreg test accuracy= ',logreg_test_acc)"
   ]
  },
  {
   "cell_type": "code",
   "execution_count": 43,
   "metadata": {},
   "outputs": [
    {
     "name": "stdout",
     "output_type": "stream",
     "text": [
      "logreg training acuracy=  0.7954545454545454\n",
      "logreg test accuracy=  0.75\n"
     ]
    }
   ],
   "source": [
    "#random15\n",
    "from sklearn.model_selection import train_test_split\n",
    "train_df, test_df = train_test_split(df, test_size=0.2, random_state=368)\n",
    "X_train = train_df.drop('Weight_loss_band', axis=1)\n",
    "Y_train = train_df['Weight_loss_band']  \n",
    "X_test  = test_df.drop('Weight_loss_band', axis=1)\n",
    "Y_test = test_df['Weight_loss_band']  \n",
    "logreg = LogisticRegression()  \n",
    "logreg.fit(X_train, Y_train)\n",
    "logreg_train_acc = logreg.score(X_train, Y_train)\n",
    "logreg_test_acc = logreg.score(X_test, Y_test)\n",
    "print ('logreg training acuracy= ',logreg_train_acc)\n",
    "print('logreg test accuracy= ',logreg_test_acc)"
   ]
  },
  {
   "cell_type": "code",
   "execution_count": 44,
   "metadata": {},
   "outputs": [
    {
     "name": "stdout",
     "output_type": "stream",
     "text": [
      "logreg training acuracy=  0.75\n",
      "logreg test accuracy=  0.5833333333333334\n"
     ]
    }
   ],
   "source": [
    "#random16\n",
    "from sklearn.model_selection import train_test_split\n",
    "train_df, test_df = train_test_split(df, test_size=0.2, random_state=400)\n",
    "X_train = train_df.drop('Weight_loss_band', axis=1)\n",
    "Y_train = train_df['Weight_loss_band']  \n",
    "X_test  = test_df.drop('Weight_loss_band', axis=1)\n",
    "Y_test = test_df['Weight_loss_band']  \n",
    "logreg = LogisticRegression()  \n",
    "logreg.fit(X_train, Y_train)\n",
    "logreg_train_acc = logreg.score(X_train, Y_train)\n",
    "logreg_test_acc = logreg.score(X_test, Y_test)\n",
    "print ('logreg training acuracy= ',logreg_train_acc)\n",
    "print('logreg test accuracy= ',logreg_test_acc)"
   ]
  },
  {
   "cell_type": "code",
   "execution_count": 45,
   "metadata": {},
   "outputs": [
    {
     "name": "stdout",
     "output_type": "stream",
     "text": [
      "logreg training acuracy=  0.7954545454545454\n",
      "logreg test accuracy=  0.6666666666666666\n"
     ]
    }
   ],
   "source": [
    "#random17\n",
    "from sklearn.model_selection import train_test_split\n",
    "train_df, test_df = train_test_split(df, test_size=0.2, random_state=500)\n",
    "X_train = train_df.drop('Weight_loss_band', axis=1)\n",
    "Y_train = train_df['Weight_loss_band']  \n",
    "X_test  = test_df.drop('Weight_loss_band', axis=1)\n",
    "Y_test = test_df['Weight_loss_band']  \n",
    "logreg = LogisticRegression()  \n",
    "logreg.fit(X_train, Y_train)\n",
    "logreg_train_acc = logreg.score(X_train, Y_train)\n",
    "logreg_test_acc = logreg.score(X_test, Y_test)\n",
    "print ('logreg training acuracy= ',logreg_train_acc)\n",
    "print('logreg test accuracy= ',logreg_test_acc)"
   ]
  },
  {
   "cell_type": "code",
   "execution_count": 46,
   "metadata": {},
   "outputs": [
    {
     "name": "stdout",
     "output_type": "stream",
     "text": [
      "logreg training acuracy=  0.8409090909090909\n",
      "logreg test accuracy=  0.4166666666666667\n"
     ]
    }
   ],
   "source": [
    "#random18\n",
    "from sklearn.model_selection import train_test_split\n",
    "train_df, test_df = train_test_split(df, test_size=0.2, random_state=600)\n",
    "X_train = train_df.drop('Weight_loss_band', axis=1)\n",
    "Y_train = train_df['Weight_loss_band']  \n",
    "X_test  = test_df.drop('Weight_loss_band', axis=1)\n",
    "Y_test = test_df['Weight_loss_band']  \n",
    "logreg = LogisticRegression()  \n",
    "logreg.fit(X_train, Y_train)\n",
    "logreg_train_acc = logreg.score(X_train, Y_train)\n",
    "logreg_test_acc = logreg.score(X_test, Y_test)\n",
    "print ('logreg training acuracy= ',logreg_train_acc)\n",
    "print('logreg test accuracy= ',logreg_test_acc)"
   ]
  },
  {
   "cell_type": "code",
   "execution_count": 47,
   "metadata": {},
   "outputs": [
    {
     "name": "stdout",
     "output_type": "stream",
     "text": [
      "logreg training acuracy=  0.7954545454545454\n",
      "logreg test accuracy=  0.5833333333333334\n"
     ]
    }
   ],
   "source": [
    "#random19\n",
    "from sklearn.model_selection import train_test_split\n",
    "train_df, test_df = train_test_split(df, test_size=0.2, random_state=700)\n",
    "X_train = train_df.drop('Weight_loss_band', axis=1)\n",
    "Y_train = train_df['Weight_loss_band']  \n",
    "X_test  = test_df.drop('Weight_loss_band', axis=1)\n",
    "Y_test = test_df['Weight_loss_band']  \n",
    "logreg = LogisticRegression()  \n",
    "logreg.fit(X_train, Y_train)\n",
    "logreg_train_acc = logreg.score(X_train, Y_train)\n",
    "logreg_test_acc = logreg.score(X_test, Y_test)\n",
    "print ('logreg training acuracy= ',logreg_train_acc)\n",
    "print('logreg test accuracy= ',logreg_test_acc)"
   ]
  },
  {
   "cell_type": "code",
   "execution_count": 48,
   "metadata": {},
   "outputs": [
    {
     "name": "stdout",
     "output_type": "stream",
     "text": [
      "logreg training acuracy=  0.7045454545454546\n",
      "logreg test accuracy=  0.8333333333333334\n"
     ]
    }
   ],
   "source": [
    "#random20\n",
    "from sklearn.model_selection import train_test_split\n",
    "train_df, test_df = train_test_split(df, test_size=0.2, random_state=22)\n",
    "X_train = train_df.drop('Weight_loss_band', axis=1)\n",
    "Y_train = train_df['Weight_loss_band']  \n",
    "X_test  = test_df.drop('Weight_loss_band', axis=1)\n",
    "Y_test = test_df['Weight_loss_band']  \n",
    "logreg = LogisticRegression()  \n",
    "logreg.fit(X_train, Y_train)\n",
    "logreg_train_acc = logreg.score(X_train, Y_train)\n",
    "logreg_test_acc = logreg.score(X_test, Y_test)\n",
    "print ('logreg training acuracy= ',logreg_train_acc)\n",
    "print('logreg test accuracy= ',logreg_test_acc)"
   ]
  },
  {
   "cell_type": "code",
   "execution_count": 49,
   "metadata": {},
   "outputs": [],
   "source": [
    "new_df.to_excel(\"demo_steps.xlsx\")"
   ]
  },
  {
   "cell_type": "code",
   "execution_count": 50,
   "metadata": {},
   "outputs": [],
   "source": [
    "df2=pd.read_excel('demo_steps_pca.xlsx')"
   ]
  },
  {
   "cell_type": "code",
   "execution_count": 51,
   "metadata": {},
   "outputs": [
    {
     "data": {
      "text/html": [
       "<div>\n",
       "<style scoped>\n",
       "    .dataframe tbody tr th:only-of-type {\n",
       "        vertical-align: middle;\n",
       "    }\n",
       "\n",
       "    .dataframe tbody tr th {\n",
       "        vertical-align: top;\n",
       "    }\n",
       "\n",
       "    .dataframe thead th {\n",
       "        text-align: right;\n",
       "    }\n",
       "</style>\n",
       "<table border=\"1\" class=\"dataframe\">\n",
       "  <thead>\n",
       "    <tr style=\"text-align: right;\">\n",
       "      <th></th>\n",
       "      <th>studyID</th>\n",
       "      <th>Group</th>\n",
       "      <th>Age</th>\n",
       "      <th>Gender</th>\n",
       "      <th>BMI</th>\n",
       "      <th>Weight_loss_band</th>\n",
       "      <th>Steps</th>\n",
       "      <th>PC1</th>\n",
       "      <th>PC2</th>\n",
       "      <th>PC3</th>\n",
       "      <th>PC4</th>\n",
       "      <th>PC5</th>\n",
       "      <th>PC6</th>\n",
       "    </tr>\n",
       "  </thead>\n",
       "  <tbody>\n",
       "    <tr>\n",
       "      <th>0</th>\n",
       "      <td>2001</td>\n",
       "      <td>0</td>\n",
       "      <td>28</td>\n",
       "      <td>0</td>\n",
       "      <td>36.24</td>\n",
       "      <td>1</td>\n",
       "      <td>10723.455556</td>\n",
       "      <td>8.061646</td>\n",
       "      <td>-5.761836</td>\n",
       "      <td>-4.841193</td>\n",
       "      <td>-2.171323</td>\n",
       "      <td>-2.788218</td>\n",
       "      <td>2.032909</td>\n",
       "    </tr>\n",
       "    <tr>\n",
       "      <th>1</th>\n",
       "      <td>2002</td>\n",
       "      <td>1</td>\n",
       "      <td>38</td>\n",
       "      <td>1</td>\n",
       "      <td>35.71</td>\n",
       "      <td>0</td>\n",
       "      <td>4654.916667</td>\n",
       "      <td>8.430937</td>\n",
       "      <td>6.946562</td>\n",
       "      <td>1.794457</td>\n",
       "      <td>-0.015105</td>\n",
       "      <td>-3.024961</td>\n",
       "      <td>-0.200291</td>\n",
       "    </tr>\n",
       "    <tr>\n",
       "      <th>2</th>\n",
       "      <td>2003</td>\n",
       "      <td>0</td>\n",
       "      <td>26</td>\n",
       "      <td>1</td>\n",
       "      <td>42.80</td>\n",
       "      <td>0</td>\n",
       "      <td>5675.133333</td>\n",
       "      <td>8.256683</td>\n",
       "      <td>8.288072</td>\n",
       "      <td>2.570019</td>\n",
       "      <td>-0.302641</td>\n",
       "      <td>-3.554665</td>\n",
       "      <td>4.007124</td>\n",
       "    </tr>\n",
       "    <tr>\n",
       "      <th>3</th>\n",
       "      <td>2004</td>\n",
       "      <td>1</td>\n",
       "      <td>60</td>\n",
       "      <td>0</td>\n",
       "      <td>26.72</td>\n",
       "      <td>1</td>\n",
       "      <td>9855.843373</td>\n",
       "      <td>8.376866</td>\n",
       "      <td>-0.916554</td>\n",
       "      <td>-6.212482</td>\n",
       "      <td>1.182002</td>\n",
       "      <td>-0.328640</td>\n",
       "      <td>-1.162400</td>\n",
       "    </tr>\n",
       "    <tr>\n",
       "      <th>4</th>\n",
       "      <td>2006</td>\n",
       "      <td>1</td>\n",
       "      <td>48</td>\n",
       "      <td>1</td>\n",
       "      <td>43.89</td>\n",
       "      <td>0</td>\n",
       "      <td>7595.388889</td>\n",
       "      <td>8.258802</td>\n",
       "      <td>0.870977</td>\n",
       "      <td>4.219331</td>\n",
       "      <td>0.654543</td>\n",
       "      <td>-3.580225</td>\n",
       "      <td>1.235964</td>\n",
       "    </tr>\n",
       "  </tbody>\n",
       "</table>\n",
       "</div>"
      ],
      "text/plain": [
       "   studyID  Group  Age  Gender    BMI  Weight_loss_band         Steps  \\\n",
       "0     2001      0   28       0  36.24                 1  10723.455556   \n",
       "1     2002      1   38       1  35.71                 0   4654.916667   \n",
       "2     2003      0   26       1  42.80                 0   5675.133333   \n",
       "3     2004      1   60       0  26.72                 1   9855.843373   \n",
       "4     2006      1   48       1  43.89                 0   7595.388889   \n",
       "\n",
       "        PC1       PC2       PC3       PC4       PC5       PC6  \n",
       "0  8.061646 -5.761836 -4.841193 -2.171323 -2.788218  2.032909  \n",
       "1  8.430937  6.946562  1.794457 -0.015105 -3.024961 -0.200291  \n",
       "2  8.256683  8.288072  2.570019 -0.302641 -3.554665  4.007124  \n",
       "3  8.376866 -0.916554 -6.212482  1.182002 -0.328640 -1.162400  \n",
       "4  8.258802  0.870977  4.219331  0.654543 -3.580225  1.235964  "
      ]
     },
     "execution_count": 51,
     "metadata": {},
     "output_type": "execute_result"
    }
   ],
   "source": [
    "df2.head()"
   ]
  },
  {
   "cell_type": "code",
   "execution_count": 52,
   "metadata": {},
   "outputs": [
    {
     "name": "stdout",
     "output_type": "stream",
     "text": [
      "logreg training acuracy=  0.8409090909090909\n",
      "logreg test accuracy=  0.75\n"
     ]
    }
   ],
   "source": [
    "#random21\n",
    "from sklearn.model_selection import train_test_split\n",
    "train_df, test_df = train_test_split(df2, test_size=0.2, random_state=100)\n",
    "X_train = train_df.drop('Weight_loss_band', axis=1)\n",
    "Y_train = train_df['Weight_loss_band']  \n",
    "X_test  = test_df.drop('Weight_loss_band', axis=1)\n",
    "Y_test = test_df['Weight_loss_band']  \n",
    "logreg = LogisticRegression()  \n",
    "logreg.fit(X_train, Y_train)\n",
    "logreg_train_acc = logreg.score(X_train, Y_train)\n",
    "logreg_test_acc = logreg.score(X_test, Y_test)\n",
    "print ('logreg training acuracy= ',logreg_train_acc)\n",
    "print('logreg test accuracy= ',logreg_test_acc)"
   ]
  },
  {
   "cell_type": "code",
   "execution_count": 53,
   "metadata": {},
   "outputs": [
    {
     "name": "stdout",
     "output_type": "stream",
     "text": [
      "logreg training acuracy=  0.9318181818181818\n",
      "logreg test accuracy=  0.75\n"
     ]
    }
   ],
   "source": [
    "#random22\n",
    "from sklearn.model_selection import train_test_split\n",
    "train_df, test_df = train_test_split(df2, test_size=0.2, random_state=122)\n",
    "X_train = train_df.drop('Weight_loss_band', axis=1)\n",
    "Y_train = train_df['Weight_loss_band']  \n",
    "X_test  = test_df.drop('Weight_loss_band', axis=1)\n",
    "Y_test = test_df['Weight_loss_band']  \n",
    "logreg = LogisticRegression()  \n",
    "logreg.fit(X_train, Y_train)\n",
    "logreg_train_acc = logreg.score(X_train, Y_train)\n",
    "logreg_test_acc = logreg.score(X_test, Y_test)\n",
    "print ('logreg training acuracy= ',logreg_train_acc)\n",
    "print('logreg test accuracy= ',logreg_test_acc)"
   ]
  },
  {
   "cell_type": "code",
   "execution_count": 54,
   "metadata": {},
   "outputs": [
    {
     "name": "stdout",
     "output_type": "stream",
     "text": [
      "logreg training acuracy=  0.9090909090909091\n",
      "logreg test accuracy=  0.75\n"
     ]
    }
   ],
   "source": [
    "#random23\n",
    "from sklearn.model_selection import train_test_split\n",
    "train_df, test_df = train_test_split(df2, test_size=0.2, random_state=200)\n",
    "X_train = train_df.drop('Weight_loss_band', axis=1)\n",
    "Y_train = train_df['Weight_loss_band']  \n",
    "X_test  = test_df.drop('Weight_loss_band', axis=1)\n",
    "Y_test = test_df['Weight_loss_band']  \n",
    "logreg = LogisticRegression()  \n",
    "logreg.fit(X_train, Y_train)\n",
    "logreg_train_acc = logreg.score(X_train, Y_train)\n",
    "logreg_test_acc = logreg.score(X_test, Y_test)\n",
    "print ('logreg training acuracy= ',logreg_train_acc)\n",
    "print('logreg test accuracy= ',logreg_test_acc)"
   ]
  },
  {
   "cell_type": "code",
   "execution_count": 55,
   "metadata": {},
   "outputs": [
    {
     "name": "stdout",
     "output_type": "stream",
     "text": [
      "logreg training acuracy=  0.8636363636363636\n",
      "logreg test accuracy=  0.8333333333333334\n"
     ]
    }
   ],
   "source": [
    "#random24\n",
    "from sklearn.model_selection import train_test_split\n",
    "train_df, test_df = train_test_split(df2, test_size=0.2, random_state=300)\n",
    "X_train = train_df.drop('Weight_loss_band', axis=1)\n",
    "Y_train = train_df['Weight_loss_band']  \n",
    "X_test  = test_df.drop('Weight_loss_band', axis=1)\n",
    "Y_test = test_df['Weight_loss_band']  \n",
    "logreg = LogisticRegression()  \n",
    "logreg.fit(X_train, Y_train)\n",
    "logreg_train_acc = logreg.score(X_train, Y_train)\n",
    "logreg_test_acc = logreg.score(X_test, Y_test)\n",
    "print ('logreg training acuracy= ',logreg_train_acc)\n",
    "print('logreg test accuracy= ',logreg_test_acc)"
   ]
  },
  {
   "cell_type": "code",
   "execution_count": 56,
   "metadata": {},
   "outputs": [
    {
     "name": "stdout",
     "output_type": "stream",
     "text": [
      "logreg training acuracy=  0.9090909090909091\n",
      "logreg test accuracy=  0.6666666666666666\n"
     ]
    }
   ],
   "source": [
    "#random25\n",
    "from sklearn.model_selection import train_test_split\n",
    "train_df, test_df = train_test_split(df2, test_size=0.2, random_state=368)\n",
    "X_train = train_df.drop('Weight_loss_band', axis=1)\n",
    "Y_train = train_df['Weight_loss_band']  \n",
    "X_test  = test_df.drop('Weight_loss_band', axis=1)\n",
    "Y_test = test_df['Weight_loss_band']  \n",
    "logreg = LogisticRegression()  \n",
    "logreg.fit(X_train, Y_train)\n",
    "logreg_train_acc = logreg.score(X_train, Y_train)\n",
    "logreg_test_acc = logreg.score(X_test, Y_test)\n",
    "print ('logreg training acuracy= ',logreg_train_acc)\n",
    "print('logreg test accuracy= ',logreg_test_acc)"
   ]
  },
  {
   "cell_type": "code",
   "execution_count": 57,
   "metadata": {},
   "outputs": [
    {
     "name": "stdout",
     "output_type": "stream",
     "text": [
      "logreg training acuracy=  0.8636363636363636\n",
      "logreg test accuracy=  0.5833333333333334\n"
     ]
    }
   ],
   "source": [
    "#random26\n",
    "from sklearn.model_selection import train_test_split\n",
    "train_df, test_df = train_test_split(df2, test_size=0.2, random_state=400)\n",
    "X_train = train_df.drop('Weight_loss_band', axis=1)\n",
    "Y_train = train_df['Weight_loss_band']  \n",
    "X_test  = test_df.drop('Weight_loss_band', axis=1)\n",
    "Y_test = test_df['Weight_loss_band']  \n",
    "logreg = LogisticRegression()  \n",
    "logreg.fit(X_train, Y_train)\n",
    "logreg_train_acc = logreg.score(X_train, Y_train)\n",
    "logreg_test_acc = logreg.score(X_test, Y_test)\n",
    "print ('logreg training acuracy= ',logreg_train_acc)\n",
    "print('logreg test accuracy= ',logreg_test_acc)"
   ]
  },
  {
   "cell_type": "code",
   "execution_count": 58,
   "metadata": {},
   "outputs": [
    {
     "name": "stdout",
     "output_type": "stream",
     "text": [
      "logreg training acuracy=  0.8636363636363636\n",
      "logreg test accuracy=  0.5833333333333334\n"
     ]
    }
   ],
   "source": [
    "#random27\n",
    "from sklearn.model_selection import train_test_split\n",
    "train_df, test_df = train_test_split(df2, test_size=0.2, random_state=500)\n",
    "X_train = train_df.drop('Weight_loss_band', axis=1)\n",
    "Y_train = train_df['Weight_loss_band']  \n",
    "X_test  = test_df.drop('Weight_loss_band', axis=1)\n",
    "Y_test = test_df['Weight_loss_band']  \n",
    "logreg = LogisticRegression()  \n",
    "logreg.fit(X_train, Y_train)\n",
    "logreg_train_acc = logreg.score(X_train, Y_train)\n",
    "logreg_test_acc = logreg.score(X_test, Y_test)\n",
    "print ('logreg training acuracy= ',logreg_train_acc)\n",
    "print('logreg test accuracy= ',logreg_test_acc)"
   ]
  },
  {
   "cell_type": "code",
   "execution_count": 59,
   "metadata": {},
   "outputs": [
    {
     "name": "stdout",
     "output_type": "stream",
     "text": [
      "logreg training acuracy=  0.8636363636363636\n",
      "logreg test accuracy=  0.5833333333333334\n"
     ]
    }
   ],
   "source": [
    "#random28\n",
    "from sklearn.model_selection import train_test_split\n",
    "train_df, test_df = train_test_split(df2, test_size=0.2, random_state=600)\n",
    "X_train = train_df.drop('Weight_loss_band', axis=1)\n",
    "Y_train = train_df['Weight_loss_band']  \n",
    "X_test  = test_df.drop('Weight_loss_band', axis=1)\n",
    "Y_test = test_df['Weight_loss_band']  \n",
    "logreg = LogisticRegression()  \n",
    "logreg.fit(X_train, Y_train)\n",
    "logreg_train_acc = logreg.score(X_train, Y_train)\n",
    "logreg_test_acc = logreg.score(X_test, Y_test)\n",
    "print ('logreg training acuracy= ',logreg_train_acc)\n",
    "print('logreg test accuracy= ',logreg_test_acc)"
   ]
  },
  {
   "cell_type": "code",
   "execution_count": 60,
   "metadata": {},
   "outputs": [
    {
     "name": "stdout",
     "output_type": "stream",
     "text": [
      "logreg training acuracy=  0.7954545454545454\n",
      "logreg test accuracy=  0.8333333333333334\n"
     ]
    }
   ],
   "source": [
    "#random29\n",
    "from sklearn.model_selection import train_test_split\n",
    "train_df, test_df = train_test_split(df2, test_size=0.2, random_state=700)\n",
    "X_train = train_df.drop('Weight_loss_band', axis=1)\n",
    "Y_train = train_df['Weight_loss_band']  \n",
    "X_test  = test_df.drop('Weight_loss_band', axis=1)\n",
    "Y_test = test_df['Weight_loss_band']  \n",
    "logreg = LogisticRegression()  \n",
    "logreg.fit(X_train, Y_train)\n",
    "logreg_train_acc = logreg.score(X_train, Y_train)\n",
    "logreg_test_acc = logreg.score(X_test, Y_test)\n",
    "print ('logreg training acuracy= ',logreg_train_acc)\n",
    "print('logreg test accuracy= ',logreg_test_acc)"
   ]
  },
  {
   "cell_type": "code",
   "execution_count": 61,
   "metadata": {},
   "outputs": [
    {
     "name": "stdout",
     "output_type": "stream",
     "text": [
      "logreg training acuracy=  0.7954545454545454\n",
      "logreg test accuracy=  0.9166666666666666\n"
     ]
    }
   ],
   "source": [
    "#random30\n",
    "from sklearn.model_selection import train_test_split\n",
    "train_df, test_df = train_test_split(df2, test_size=0.2, random_state=22)\n",
    "X_train = train_df.drop('Weight_loss_band', axis=1)\n",
    "Y_train = train_df['Weight_loss_band']  \n",
    "X_test  = test_df.drop('Weight_loss_band', axis=1)\n",
    "Y_test = test_df['Weight_loss_band']  \n",
    "logreg = LogisticRegression()  \n",
    "logreg.fit(X_train, Y_train)\n",
    "logreg_train_acc = logreg.score(X_train, Y_train)\n",
    "logreg_test_acc = logreg.score(X_test, Y_test)\n",
    "print ('logreg training acuracy= ',logreg_train_acc)\n",
    "print('logreg test accuracy= ',logreg_test_acc)"
   ]
  },
  {
   "cell_type": "code",
   "execution_count": 62,
   "metadata": {},
   "outputs": [
    {
     "data": {
      "text/html": [
       "<div>\n",
       "<style scoped>\n",
       "    .dataframe tbody tr th:only-of-type {\n",
       "        vertical-align: middle;\n",
       "    }\n",
       "\n",
       "    .dataframe tbody tr th {\n",
       "        vertical-align: top;\n",
       "    }\n",
       "\n",
       "    .dataframe thead th {\n",
       "        text-align: right;\n",
       "    }\n",
       "</style>\n",
       "<table border=\"1\" class=\"dataframe\">\n",
       "  <thead>\n",
       "    <tr style=\"text-align: right;\">\n",
       "      <th></th>\n",
       "      <th>studyID</th>\n",
       "      <th>Group</th>\n",
       "      <th>Age</th>\n",
       "      <th>Gender</th>\n",
       "      <th>BMI</th>\n",
       "      <th>Weight_loss_band</th>\n",
       "      <th>Steps</th>\n",
       "      <th>path:hsa03040-mean</th>\n",
       "      <th>path:hsa03040-variance</th>\n",
       "      <th>path:hsa03050-mean</th>\n",
       "      <th>...</th>\n",
       "      <th>path:hsa03060-mean</th>\n",
       "      <th>path:hsa03060-variance</th>\n",
       "      <th>path:hsa04130-mean</th>\n",
       "      <th>path:hsa04130-variance</th>\n",
       "      <th>path:hsa04141-mean</th>\n",
       "      <th>path:hsa04141-variance</th>\n",
       "      <th>path:hsa04662-mean</th>\n",
       "      <th>path:hsa04662-variance</th>\n",
       "      <th>path:hsa05220-mean</th>\n",
       "      <th>path:hsa05220-variance</th>\n",
       "    </tr>\n",
       "  </thead>\n",
       "  <tbody>\n",
       "    <tr>\n",
       "      <th>0</th>\n",
       "      <td>2001</td>\n",
       "      <td>0</td>\n",
       "      <td>28</td>\n",
       "      <td>0</td>\n",
       "      <td>36.24</td>\n",
       "      <td>1</td>\n",
       "      <td>10723.455556</td>\n",
       "      <td>86.154219</td>\n",
       "      <td>21800.778325</td>\n",
       "      <td>79.794512</td>\n",
       "      <td>...</td>\n",
       "      <td>72.230671</td>\n",
       "      <td>3886.474530</td>\n",
       "      <td>50.664777</td>\n",
       "      <td>1633.094649</td>\n",
       "      <td>98.424988</td>\n",
       "      <td>49954.700683</td>\n",
       "      <td>159.915149</td>\n",
       "      <td>37825.957918</td>\n",
       "      <td>107.235180</td>\n",
       "      <td>21103.621464</td>\n",
       "    </tr>\n",
       "    <tr>\n",
       "      <th>1</th>\n",
       "      <td>2002</td>\n",
       "      <td>1</td>\n",
       "      <td>38</td>\n",
       "      <td>1</td>\n",
       "      <td>35.71</td>\n",
       "      <td>0</td>\n",
       "      <td>4654.916667</td>\n",
       "      <td>97.584318</td>\n",
       "      <td>15007.706572</td>\n",
       "      <td>68.788322</td>\n",
       "      <td>...</td>\n",
       "      <td>101.742322</td>\n",
       "      <td>5646.975137</td>\n",
       "      <td>43.465866</td>\n",
       "      <td>1679.074231</td>\n",
       "      <td>84.057955</td>\n",
       "      <td>15199.893980</td>\n",
       "      <td>102.296825</td>\n",
       "      <td>9691.314802</td>\n",
       "      <td>73.110464</td>\n",
       "      <td>5785.362121</td>\n",
       "    </tr>\n",
       "    <tr>\n",
       "      <th>2</th>\n",
       "      <td>2003</td>\n",
       "      <td>0</td>\n",
       "      <td>26</td>\n",
       "      <td>1</td>\n",
       "      <td>42.80</td>\n",
       "      <td>0</td>\n",
       "      <td>5675.133333</td>\n",
       "      <td>95.057381</td>\n",
       "      <td>12617.681555</td>\n",
       "      <td>68.462327</td>\n",
       "      <td>...</td>\n",
       "      <td>102.477762</td>\n",
       "      <td>11260.700282</td>\n",
       "      <td>49.024537</td>\n",
       "      <td>1575.377166</td>\n",
       "      <td>82.168618</td>\n",
       "      <td>11999.813861</td>\n",
       "      <td>106.311380</td>\n",
       "      <td>13742.844297</td>\n",
       "      <td>74.360748</td>\n",
       "      <td>5684.006951</td>\n",
       "    </tr>\n",
       "    <tr>\n",
       "      <th>3</th>\n",
       "      <td>2004</td>\n",
       "      <td>1</td>\n",
       "      <td>60</td>\n",
       "      <td>0</td>\n",
       "      <td>26.72</td>\n",
       "      <td>1</td>\n",
       "      <td>9855.843373</td>\n",
       "      <td>88.907581</td>\n",
       "      <td>18117.487593</td>\n",
       "      <td>82.024351</td>\n",
       "      <td>...</td>\n",
       "      <td>82.144727</td>\n",
       "      <td>4236.446791</td>\n",
       "      <td>48.366668</td>\n",
       "      <td>2024.659491</td>\n",
       "      <td>97.786337</td>\n",
       "      <td>50042.642204</td>\n",
       "      <td>127.510289</td>\n",
       "      <td>20393.076993</td>\n",
       "      <td>87.864261</td>\n",
       "      <td>10414.037841</td>\n",
       "    </tr>\n",
       "    <tr>\n",
       "      <th>4</th>\n",
       "      <td>2006</td>\n",
       "      <td>1</td>\n",
       "      <td>48</td>\n",
       "      <td>1</td>\n",
       "      <td>43.89</td>\n",
       "      <td>0</td>\n",
       "      <td>7595.388889</td>\n",
       "      <td>84.981499</td>\n",
       "      <td>9910.820112</td>\n",
       "      <td>79.067493</td>\n",
       "      <td>...</td>\n",
       "      <td>96.999589</td>\n",
       "      <td>9473.002696</td>\n",
       "      <td>48.343406</td>\n",
       "      <td>1081.223172</td>\n",
       "      <td>75.811154</td>\n",
       "      <td>9582.504013</td>\n",
       "      <td>129.117374</td>\n",
       "      <td>18994.681879</td>\n",
       "      <td>80.114105</td>\n",
       "      <td>6362.957057</td>\n",
       "    </tr>\n",
       "  </tbody>\n",
       "</table>\n",
       "<p>5 rows × 21 columns</p>\n",
       "</div>"
      ],
      "text/plain": [
       "   studyID  Group  Age  Gender    BMI  Weight_loss_band         Steps  \\\n",
       "0     2001      0   28       0  36.24                 1  10723.455556   \n",
       "1     2002      1   38       1  35.71                 0   4654.916667   \n",
       "2     2003      0   26       1  42.80                 0   5675.133333   \n",
       "3     2004      1   60       0  26.72                 1   9855.843373   \n",
       "4     2006      1   48       1  43.89                 0   7595.388889   \n",
       "\n",
       "   path:hsa03040-mean  path:hsa03040-variance  path:hsa03050-mean  \\\n",
       "0           86.154219            21800.778325           79.794512   \n",
       "1           97.584318            15007.706572           68.788322   \n",
       "2           95.057381            12617.681555           68.462327   \n",
       "3           88.907581            18117.487593           82.024351   \n",
       "4           84.981499             9910.820112           79.067493   \n",
       "\n",
       "            ...            path:hsa03060-mean  path:hsa03060-variance  \\\n",
       "0           ...                     72.230671             3886.474530   \n",
       "1           ...                    101.742322             5646.975137   \n",
       "2           ...                    102.477762            11260.700282   \n",
       "3           ...                     82.144727             4236.446791   \n",
       "4           ...                     96.999589             9473.002696   \n",
       "\n",
       "   path:hsa04130-mean  path:hsa04130-variance  path:hsa04141-mean  \\\n",
       "0           50.664777             1633.094649           98.424988   \n",
       "1           43.465866             1679.074231           84.057955   \n",
       "2           49.024537             1575.377166           82.168618   \n",
       "3           48.366668             2024.659491           97.786337   \n",
       "4           48.343406             1081.223172           75.811154   \n",
       "\n",
       "   path:hsa04141-variance  path:hsa04662-mean  path:hsa04662-variance  \\\n",
       "0            49954.700683          159.915149            37825.957918   \n",
       "1            15199.893980          102.296825             9691.314802   \n",
       "2            11999.813861          106.311380            13742.844297   \n",
       "3            50042.642204          127.510289            20393.076993   \n",
       "4             9582.504013          129.117374            18994.681879   \n",
       "\n",
       "   path:hsa05220-mean  path:hsa05220-variance  \n",
       "0          107.235180            21103.621464  \n",
       "1           73.110464             5785.362121  \n",
       "2           74.360748             5684.006951  \n",
       "3           87.864261            10414.037841  \n",
       "4           80.114105             6362.957057  \n",
       "\n",
       "[5 rows x 21 columns]"
      ]
     },
     "execution_count": 62,
     "metadata": {},
     "output_type": "execute_result"
    }
   ],
   "source": [
    "df3=pd.read_excel('demo_steps_kegg.xlsx')\n",
    "df3.head()"
   ]
  },
  {
   "cell_type": "code",
   "execution_count": 63,
   "metadata": {},
   "outputs": [
    {
     "name": "stdout",
     "output_type": "stream",
     "text": [
      "logreg training acuracy=  0.8863636363636364\n",
      "logreg test accuracy=  0.5\n"
     ]
    }
   ],
   "source": [
    "#random31\n",
    "from sklearn.model_selection import train_test_split\n",
    "train_df, test_df = train_test_split(df3, test_size=0.2, random_state=100)\n",
    "X_train = train_df.drop('Weight_loss_band', axis=1)\n",
    "Y_train = train_df['Weight_loss_band']  \n",
    "X_test  = test_df.drop('Weight_loss_band', axis=1)\n",
    "Y_test = test_df['Weight_loss_band']  \n",
    "logreg = LogisticRegression()  \n",
    "logreg.fit(X_train, Y_train)\n",
    "logreg_train_acc = logreg.score(X_train, Y_train)\n",
    "logreg_test_acc = logreg.score(X_test, Y_test)\n",
    "print ('logreg training acuracy= ',logreg_train_acc)\n",
    "print('logreg test accuracy= ',logreg_test_acc)"
   ]
  },
  {
   "cell_type": "code",
   "execution_count": 64,
   "metadata": {},
   "outputs": [
    {
     "name": "stdout",
     "output_type": "stream",
     "text": [
      "logreg training acuracy=  0.8863636363636364\n",
      "logreg test accuracy=  0.8333333333333334\n"
     ]
    }
   ],
   "source": [
    "#random32\n",
    "from sklearn.model_selection import train_test_split\n",
    "train_df, test_df = train_test_split(df3, test_size=0.2, random_state=122)\n",
    "X_train = train_df.drop('Weight_loss_band', axis=1)\n",
    "Y_train = train_df['Weight_loss_band']  \n",
    "X_test  = test_df.drop('Weight_loss_band', axis=1)\n",
    "Y_test = test_df['Weight_loss_band']  \n",
    "logreg = LogisticRegression()  \n",
    "logreg.fit(X_train, Y_train)\n",
    "logreg_train_acc = logreg.score(X_train, Y_train)\n",
    "logreg_test_acc = logreg.score(X_test, Y_test)\n",
    "print ('logreg training acuracy= ',logreg_train_acc)\n",
    "print('logreg test accuracy= ',logreg_test_acc)"
   ]
  },
  {
   "cell_type": "code",
   "execution_count": 65,
   "metadata": {},
   "outputs": [
    {
     "name": "stdout",
     "output_type": "stream",
     "text": [
      "logreg training acuracy=  0.9318181818181818\n",
      "logreg test accuracy=  0.75\n"
     ]
    }
   ],
   "source": [
    "#random33\n",
    "from sklearn.model_selection import train_test_split\n",
    "train_df, test_df = train_test_split(df3, test_size=0.2, random_state=200)\n",
    "X_train = train_df.drop('Weight_loss_band', axis=1)\n",
    "Y_train = train_df['Weight_loss_band']  \n",
    "X_test  = test_df.drop('Weight_loss_band', axis=1)\n",
    "Y_test = test_df['Weight_loss_band']  \n",
    "logreg = LogisticRegression()  \n",
    "logreg.fit(X_train, Y_train)\n",
    "logreg_train_acc = logreg.score(X_train, Y_train)\n",
    "logreg_test_acc = logreg.score(X_test, Y_test)\n",
    "print ('logreg training acuracy= ',logreg_train_acc)\n",
    "print('logreg test accuracy= ',logreg_test_acc)"
   ]
  },
  {
   "cell_type": "code",
   "execution_count": 66,
   "metadata": {},
   "outputs": [
    {
     "name": "stdout",
     "output_type": "stream",
     "text": [
      "logreg training acuracy=  0.8409090909090909\n",
      "logreg test accuracy=  0.5833333333333334\n"
     ]
    }
   ],
   "source": [
    "#random34\n",
    "from sklearn.model_selection import train_test_split\n",
    "train_df, test_df = train_test_split(df3, test_size=0.2, random_state=300)\n",
    "X_train = train_df.drop('Weight_loss_band', axis=1)\n",
    "Y_train = train_df['Weight_loss_band']  \n",
    "X_test  = test_df.drop('Weight_loss_band', axis=1)\n",
    "Y_test = test_df['Weight_loss_band']  \n",
    "logreg = LogisticRegression()  \n",
    "logreg.fit(X_train, Y_train)\n",
    "logreg_train_acc = logreg.score(X_train, Y_train)\n",
    "logreg_test_acc = logreg.score(X_test, Y_test)\n",
    "print ('logreg training acuracy= ',logreg_train_acc)\n",
    "print('logreg test accuracy= ',logreg_test_acc)"
   ]
  },
  {
   "cell_type": "code",
   "execution_count": 67,
   "metadata": {},
   "outputs": [
    {
     "name": "stdout",
     "output_type": "stream",
     "text": [
      "logreg training acuracy=  1.0\n",
      "logreg test accuracy=  0.5\n"
     ]
    }
   ],
   "source": [
    "#random35\n",
    "from sklearn.model_selection import train_test_split\n",
    "train_df, test_df = train_test_split(df3, test_size=0.2, random_state=368)\n",
    "X_train = train_df.drop('Weight_loss_band', axis=1)\n",
    "Y_train = train_df['Weight_loss_band']  \n",
    "X_test  = test_df.drop('Weight_loss_band', axis=1)\n",
    "Y_test = test_df['Weight_loss_band']  \n",
    "logreg = LogisticRegression()  \n",
    "logreg.fit(X_train, Y_train)\n",
    "logreg_train_acc = logreg.score(X_train, Y_train)\n",
    "logreg_test_acc = logreg.score(X_test, Y_test)\n",
    "print ('logreg training acuracy= ',logreg_train_acc)\n",
    "print('logreg test accuracy= ',logreg_test_acc)"
   ]
  },
  {
   "cell_type": "code",
   "execution_count": 68,
   "metadata": {},
   "outputs": [
    {
     "name": "stdout",
     "output_type": "stream",
     "text": [
      "logreg training acuracy=  0.9090909090909091\n",
      "logreg test accuracy=  0.5\n"
     ]
    }
   ],
   "source": [
    "#random36\n",
    "from sklearn.model_selection import train_test_split\n",
    "train_df, test_df = train_test_split(df3, test_size=0.2, random_state=400)\n",
    "X_train = train_df.drop('Weight_loss_band', axis=1)\n",
    "Y_train = train_df['Weight_loss_band']  \n",
    "X_test  = test_df.drop('Weight_loss_band', axis=1)\n",
    "Y_test = test_df['Weight_loss_band']  \n",
    "logreg = LogisticRegression()  \n",
    "logreg.fit(X_train, Y_train)\n",
    "logreg_train_acc = logreg.score(X_train, Y_train)\n",
    "logreg_test_acc = logreg.score(X_test, Y_test)\n",
    "print ('logreg training acuracy= ',logreg_train_acc)\n",
    "print('logreg test accuracy= ',logreg_test_acc)"
   ]
  },
  {
   "cell_type": "code",
   "execution_count": 69,
   "metadata": {},
   "outputs": [
    {
     "name": "stdout",
     "output_type": "stream",
     "text": [
      "logreg training acuracy=  0.9318181818181818\n",
      "logreg test accuracy=  0.4166666666666667\n"
     ]
    }
   ],
   "source": [
    "#random37\n",
    "from sklearn.model_selection import train_test_split\n",
    "train_df, test_df = train_test_split(df3, test_size=0.2, random_state=500)\n",
    "X_train = train_df.drop('Weight_loss_band', axis=1)\n",
    "Y_train = train_df['Weight_loss_band']  \n",
    "X_test  = test_df.drop('Weight_loss_band', axis=1)\n",
    "Y_test = test_df['Weight_loss_band']  \n",
    "logreg = LogisticRegression()  \n",
    "logreg.fit(X_train, Y_train)\n",
    "logreg_train_acc = logreg.score(X_train, Y_train)\n",
    "logreg_test_acc = logreg.score(X_test, Y_test)\n",
    "print ('logreg training acuracy= ',logreg_train_acc)\n",
    "print('logreg test accuracy= ',logreg_test_acc)"
   ]
  },
  {
   "cell_type": "code",
   "execution_count": 70,
   "metadata": {},
   "outputs": [
    {
     "name": "stdout",
     "output_type": "stream",
     "text": [
      "logreg training acuracy=  0.8636363636363636\n",
      "logreg test accuracy=  0.6666666666666666\n"
     ]
    }
   ],
   "source": [
    "#random38\n",
    "from sklearn.model_selection import train_test_split\n",
    "train_df, test_df = train_test_split(df3, test_size=0.2, random_state=600)\n",
    "X_train = train_df.drop('Weight_loss_band', axis=1)\n",
    "Y_train = train_df['Weight_loss_band']  \n",
    "X_test  = test_df.drop('Weight_loss_band', axis=1)\n",
    "Y_test = test_df['Weight_loss_band']  \n",
    "logreg = LogisticRegression()  \n",
    "logreg.fit(X_train, Y_train)\n",
    "logreg_train_acc = logreg.score(X_train, Y_train)\n",
    "logreg_test_acc = logreg.score(X_test, Y_test)\n",
    "print ('logreg training acuracy= ',logreg_train_acc)\n",
    "print('logreg test accuracy= ',logreg_test_acc)"
   ]
  },
  {
   "cell_type": "code",
   "execution_count": 71,
   "metadata": {},
   "outputs": [
    {
     "name": "stdout",
     "output_type": "stream",
     "text": [
      "logreg training acuracy=  0.9772727272727273\n",
      "logreg test accuracy=  0.6666666666666666\n"
     ]
    }
   ],
   "source": [
    "#random39\n",
    "from sklearn.model_selection import train_test_split\n",
    "train_df, test_df = train_test_split(df3, test_size=0.2, random_state=700)\n",
    "X_train = train_df.drop('Weight_loss_band', axis=1)\n",
    "Y_train = train_df['Weight_loss_band']  \n",
    "X_test  = test_df.drop('Weight_loss_band', axis=1)\n",
    "Y_test = test_df['Weight_loss_band']  \n",
    "logreg = LogisticRegression()  \n",
    "logreg.fit(X_train, Y_train)\n",
    "logreg_train_acc = logreg.score(X_train, Y_train)\n",
    "logreg_test_acc = logreg.score(X_test, Y_test)\n",
    "print ('logreg training acuracy= ',logreg_train_acc)\n",
    "print('logreg test accuracy= ',logreg_test_acc)"
   ]
  },
  {
   "cell_type": "code",
   "execution_count": 81,
   "metadata": {},
   "outputs": [
    {
     "name": "stdout",
     "output_type": "stream",
     "text": [
      "logreg training acuracy=  0.9318181818181818\n",
      "logreg test accuracy=  0.6666666666666666\n"
     ]
    }
   ],
   "source": [
    "#random40\n",
    "from sklearn.model_selection import train_test_split\n",
    "train_df, test_df = train_test_split(df3, test_size=0.2, random_state=22)\n",
    "X_train = train_df.drop('Weight_loss_band', axis=1)\n",
    "Y_train = train_df['Weight_loss_band']  \n",
    "X_test  = test_df.drop('Weight_loss_band', axis=1)\n",
    "Y_test = test_df['Weight_loss_band']  \n",
    "logreg = LogisticRegression()  \n",
    "logreg.fit(X_train, Y_train)\n",
    "logreg_train_acc = logreg.score(X_train, Y_train)\n",
    "logreg_test_acc = logreg.score(X_test, Y_test)\n",
    "print ('logreg training acuracy= ',logreg_train_acc)\n",
    "print('logreg test accuracy= ',logreg_test_acc)"
   ]
  },
  {
   "cell_type": "code",
   "execution_count": 82,
   "metadata": {},
   "outputs": [],
   "source": [
    "from sklearn.metrics import roc_auc_score\n",
    "from sklearn.metrics import average_precision_score\n",
    "from sklearn.metrics import confusion_matrix, roc_auc_score, precision_score, recall_score, f1_score"
   ]
  },
  {
   "cell_type": "code",
   "execution_count": 90,
   "metadata": {},
   "outputs": [
    {
     "name": "stdout",
     "output_type": "stream",
     "text": [
      "Mean Accuracy: 0.7210144927536232\n",
      "Mean Precision: 0.5715488084054999\n",
      "Mean Recall: 0.5599351847138587\n",
      "Mean f1: 0.5625087929757985\n",
      "Mean ROC AUC score: 0.6716449873056337\n"
     ]
    }
   ],
   "source": [
    "from sklearn.svm import SVC\n",
    "from sklearn.model_selection import train_test_split, cross_val_predict\n",
    "from sklearn.metrics import confusion_matrix, roc_auc_score, precision_score, recall_score, f1_score\n",
    "from numpy import mean\n",
    "\n",
    "random_state = list(range(1,300))\n",
    "\n",
    "d1_acc= []\n",
    "d1_roc = []\n",
    "d1_p = []\n",
    "d1_r = []\n",
    "d1_f1 = []\n",
    "\n",
    "for i in random_state :\n",
    "    \n",
    "    train_df, test_df = train_test_split(df2, test_size=0.2, random_state= i)\n",
    "    \n",
    "    X_train = train_df.drop('Weight_loss_band', axis=1)\n",
    "    Y_train = train_df['Weight_loss_band']  \n",
    "    \n",
    "    X_test  = test_df.drop('Weight_loss_band', axis=1)\n",
    "    Y_test = test_df['Weight_loss_band']  \n",
    "    \n",
    "\n",
    "    logr = LogisticRegression()  \n",
    "    logr.fit(X_train, Y_train)\n",
    "\n",
    "    X_pred = cross_val_predict(logr, X_train, Y_train, cv=5)\n",
    "    \n",
    "    conf = confusion_matrix(Y_train, X_pred)\n",
    "    \n",
    "    accuracy = logr.score(X_test, Y_test)\n",
    "    precision = precision_score(Y_train, X_pred)\n",
    "    recall = recall_score(Y_train, X_pred)\n",
    "    f1 = f1_score(Y_train, X_pred)\n",
    "    \n",
    "    roc = roc_auc_score(Y_train, X_pred)\n",
    "    \n",
    "    d1_acc.append(accuracy)\n",
    "    d1_roc.append(roc)\n",
    "    d1_p.append(precision)\n",
    "    d1_r.append(recall)\n",
    "    d1_f1.append(f1)\n",
    "    \n",
    "    #print('Random State: ', i)\n",
    "    \n",
    "    #print('Precision:', precision)\n",
    "    #print('Recall:', recall)\n",
    "    #print('f1:', f1)\n",
    "    \n",
    "    #print('ROC AUC SCORE:', roc)\n",
    "\n",
    "print('Mean Accuracy:', mean(d1_acc))\n",
    "print('Mean Precision:', mean(d1_p))\n",
    "print('Mean Recall:', mean(d1_r))\n",
    "print('Mean f1:', mean(d1_f1))\n",
    "print('Mean ROC AUC score:', mean(d1_roc))"
   ]
  },
  {
   "cell_type": "code",
   "execution_count": 91,
   "metadata": {},
   "outputs": [
    {
     "name": "stdout",
     "output_type": "stream",
     "text": [
      "Mean Accuracy: 0.6351727982162766\n",
      "Mean Precision: 0.4325796775680209\n",
      "Mean Recall: 0.4684680845855348\n",
      "Mean f1: 0.44668212984513217\n",
      "Mean ROC AUC score: 0.5725964944805612\n"
     ]
    }
   ],
   "source": [
    "random_state = list(range(1,300))\n",
    "\n",
    "d1_acc= []\n",
    "d1_roc = []\n",
    "d1_p = []\n",
    "d1_r = []\n",
    "d1_f1 = []\n",
    "\n",
    "for i in random_state :\n",
    "    \n",
    "    train_df, test_df = train_test_split(df3, test_size=0.2, random_state= i)\n",
    "    \n",
    "    X_train = train_df.drop('Weight_loss_band', axis=1)\n",
    "    Y_train = train_df['Weight_loss_band']  \n",
    "    \n",
    "    X_test  = test_df.drop('Weight_loss_band', axis=1)\n",
    "    Y_test = test_df['Weight_loss_band']  \n",
    "    \n",
    "\n",
    "    logr = LogisticRegression()  \n",
    "    logr.fit(X_train, Y_train)\n",
    "\n",
    "    X_pred = cross_val_predict(logr, X_train, Y_train, cv=5)\n",
    "    \n",
    "    conf = confusion_matrix(Y_train, X_pred)\n",
    "    \n",
    "    accuracy = logr.score(X_test, Y_test)\n",
    "    precision = precision_score(Y_train, X_pred)\n",
    "    recall = recall_score(Y_train, X_pred)\n",
    "    f1 = f1_score(Y_train, X_pred)\n",
    "    \n",
    "    roc = roc_auc_score(Y_train, X_pred)\n",
    "    \n",
    "    d1_acc.append(accuracy)\n",
    "    d1_roc.append(roc)\n",
    "    d1_p.append(precision)\n",
    "    d1_r.append(recall)\n",
    "    d1_f1.append(f1)\n",
    "    \n",
    "    #print('Random State: ', i)\n",
    "    \n",
    "    #print('Precision:', precision)\n",
    "    #print('Recall:', recall)\n",
    "    #print('f1:', f1)\n",
    "    \n",
    "    #print('ROC AUC SCORE:', roc)\n",
    "\n",
    "print('Mean Accuracy:', mean(d1_acc))\n",
    "print('Mean Precision:', mean(d1_p))\n",
    "print('Mean Recall:', mean(d1_r))\n",
    "print('Mean f1:', mean(d1_f1))\n",
    "print('Mean ROC AUC score:', mean(d1_roc))"
   ]
  },
  {
   "cell_type": "code",
   "execution_count": null,
   "metadata": {},
   "outputs": [],
   "source": []
  }
 ],
 "metadata": {
  "kernelspec": {
   "display_name": "Python 3",
   "language": "python",
   "name": "python3"
  },
  "language_info": {
   "codemirror_mode": {
    "name": "ipython",
    "version": 3
   },
   "file_extension": ".py",
   "mimetype": "text/x-python",
   "name": "python",
   "nbconvert_exporter": "python",
   "pygments_lexer": "ipython3",
   "version": "3.6.8"
  }
 },
 "nbformat": 4,
 "nbformat_minor": 2
}
